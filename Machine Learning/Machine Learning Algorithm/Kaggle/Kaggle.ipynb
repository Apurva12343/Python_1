{
 "cells": [
  {
   "cell_type": "code",
   "execution_count": 1,
   "metadata": {},
   "outputs": [],
   "source": [
    "import pandas as pd\n",
    "import numpy as np\n",
    "import lightgbm as lgb\n",
    "from sklearn.preprocessing import OrdinalEncoder\n",
    "from sklearn.compose import ColumnTransformer, TransformedTargetRegressor\n",
    "from sklearn.pipeline import Pipeline\n",
    "from sklearn.model_selection import GridSearchCV\n",
    "from sklearn.metrics import mean_absolute_percentage_error, make_scorer\n",
    "import warnings\n",
    "warnings.filterwarnings(\"ignore\")"
   ]
  },
  {
   "cell_type": "code",
   "execution_count": 2,
   "metadata": {},
   "outputs": [],
   "source": [
    "# Load data\n",
    "train_df = pd.read_csv('train.csv')\n",
    "\n",
    "def extract_date_features(df):\n",
    "    df['date'] = pd.to_datetime(df['date'])\n",
    "    df['year'] = df['date'].dt.year\n",
    "    df['month'] = df['date'].dt.month\n",
    "    df['day'] = df['date'].dt.day\n",
    "    df['day_of_week'] = df['date'].dt.dayofweek\n",
    "    df['week_of_year'] = df['date'].dt.isocalendar().week\n",
    "    df['is_weekend'] = df['day_of_week'].isin([5, 6]).astype(int)\n",
    "    df['quarter'] = df['date'].dt.quarter\n",
    "    return df.drop(columns=['date'])\n",
    "\n",
    "train_df = extract_date_features(train_df)\n",
    "train_df = train_df.dropna(subset=['num_sold'])\n",
    "\n",
    "X = train_df.drop(columns=['num_sold', 'id'])\n",
    "y = train_df['num_sold']\n"
   ]
  },
  {
   "cell_type": "code",
   "execution_count": 3,
   "metadata": {},
   "outputs": [],
   "source": [
    "# Preprocessing\n",
    "numerical_features = ['year', 'month', 'day', 'day_of_week', 'week_of_year', 'is_weekend', 'quarter']\n",
    "categorical_features = ['country', 'store', 'product']\n",
    "\n",
    "preprocessor = ColumnTransformer(\n",
    "    transformers=[\n",
    "        ('num', 'passthrough', numerical_features),\n",
    "        ('cat', OrdinalEncoder(), categorical_features)\n",
    "    ])"
   ]
  },
  {
   "cell_type": "code",
   "execution_count": 4,
   "metadata": {},
   "outputs": [],
   "source": [
    "model = Pipeline(steps=[\n",
    "    ('preprocessor', preprocessor),\n",
    "    ('regressor', TransformedTargetRegressor(\n",
    "        regressor=lgb.LGBMRegressor(\n",
    "            objective='mae',\n",
    "            random_state=12,\n",
    "            n_jobs=2, \n",
    "            verbose=-1\n",
    "        ),\n",
    "        func=np.log,\n",
    "        inverse_func=np.exp))\n",
    "])\n"
   ]
  },
  {
   "cell_type": "code",
   "execution_count": 5,
   "metadata": {},
   "outputs": [],
   "source": [
    "param_grid = {\n",
    "    'regressor__regressor__n_estimators': [300, 500],\n",
    "    'regressor__regressor__learning_rate': [0.05, 0.1],\n",
    "    'regressor__regressor__max_depth': [5, 7],\n",
    "    'regressor__regressor__num_leaves': [31, 63],\n",
    "    'regressor__regressor__subsample': [0.8],\n",
    "}"
   ]
  },
  {
   "cell_type": "code",
   "execution_count": 6,
   "metadata": {},
   "outputs": [],
   "source": [
    "scorer = make_scorer(mean_absolute_percentage_error, greater_is_better=False)"
   ]
  },
  {
   "cell_type": "code",
   "execution_count": 9,
   "metadata": {},
   "outputs": [],
   "source": [
    "grid_search = GridSearchCV(\n",
    "    model,\n",
    "    param_grid,\n",
    "    cv=5,  \n",
    "    scoring=scorer,\n",
    "    n_jobs=1,  \n",
    "    verbose=2\n",
    ")"
   ]
  },
  {
   "cell_type": "code",
   "execution_count": 10,
   "metadata": {},
   "outputs": [
    {
     "name": "stdout",
     "output_type": "stream",
     "text": [
      "Fitting 5 folds for each of 16 candidates, totalling 80 fits\n",
      "[CV] END regressor__regressor__learning_rate=0.05, regressor__regressor__max_depth=5, regressor__regressor__n_estimators=300, regressor__regressor__num_leaves=31, regressor__regressor__subsample=0.8; total time=   3.7s\n",
      "[CV] END regressor__regressor__learning_rate=0.05, regressor__regressor__max_depth=5, regressor__regressor__n_estimators=300, regressor__regressor__num_leaves=31, regressor__regressor__subsample=0.8; total time=   2.6s\n",
      "[CV] END regressor__regressor__learning_rate=0.05, regressor__regressor__max_depth=5, regressor__regressor__n_estimators=300, regressor__regressor__num_leaves=31, regressor__regressor__subsample=0.8; total time=   2.7s\n",
      "[CV] END regressor__regressor__learning_rate=0.05, regressor__regressor__max_depth=5, regressor__regressor__n_estimators=300, regressor__regressor__num_leaves=31, regressor__regressor__subsample=0.8; total time=   2.6s\n",
      "[CV] END regressor__regressor__learning_rate=0.05, regressor__regressor__max_depth=5, regressor__regressor__n_estimators=300, regressor__regressor__num_leaves=31, regressor__regressor__subsample=0.8; total time=   2.8s\n",
      "[CV] END regressor__regressor__learning_rate=0.05, regressor__regressor__max_depth=5, regressor__regressor__n_estimators=300, regressor__regressor__num_leaves=63, regressor__regressor__subsample=0.8; total time=   4.8s\n",
      "[CV] END regressor__regressor__learning_rate=0.05, regressor__regressor__max_depth=5, regressor__regressor__n_estimators=300, regressor__regressor__num_leaves=63, regressor__regressor__subsample=0.8; total time=   3.1s\n",
      "[CV] END regressor__regressor__learning_rate=0.05, regressor__regressor__max_depth=5, regressor__regressor__n_estimators=300, regressor__regressor__num_leaves=63, regressor__regressor__subsample=0.8; total time=   2.6s\n",
      "[CV] END regressor__regressor__learning_rate=0.05, regressor__regressor__max_depth=5, regressor__regressor__n_estimators=300, regressor__regressor__num_leaves=63, regressor__regressor__subsample=0.8; total time=   3.4s\n",
      "[CV] END regressor__regressor__learning_rate=0.05, regressor__regressor__max_depth=5, regressor__regressor__n_estimators=300, regressor__regressor__num_leaves=63, regressor__regressor__subsample=0.8; total time=   2.9s\n",
      "[CV] END regressor__regressor__learning_rate=0.05, regressor__regressor__max_depth=5, regressor__regressor__n_estimators=500, regressor__regressor__num_leaves=31, regressor__regressor__subsample=0.8; total time=   4.2s\n",
      "[CV] END regressor__regressor__learning_rate=0.05, regressor__regressor__max_depth=5, regressor__regressor__n_estimators=500, regressor__regressor__num_leaves=31, regressor__regressor__subsample=0.8; total time=   4.2s\n",
      "[CV] END regressor__regressor__learning_rate=0.05, regressor__regressor__max_depth=5, regressor__regressor__n_estimators=500, regressor__regressor__num_leaves=31, regressor__regressor__subsample=0.8; total time=   4.3s\n",
      "[CV] END regressor__regressor__learning_rate=0.05, regressor__regressor__max_depth=5, regressor__regressor__n_estimators=500, regressor__regressor__num_leaves=31, regressor__regressor__subsample=0.8; total time=   4.4s\n",
      "[CV] END regressor__regressor__learning_rate=0.05, regressor__regressor__max_depth=5, regressor__regressor__n_estimators=500, regressor__regressor__num_leaves=31, regressor__regressor__subsample=0.8; total time=   4.2s\n",
      "[CV] END regressor__regressor__learning_rate=0.05, regressor__regressor__max_depth=5, regressor__regressor__n_estimators=500, regressor__regressor__num_leaves=63, regressor__regressor__subsample=0.8; total time=   4.1s\n",
      "[CV] END regressor__regressor__learning_rate=0.05, regressor__regressor__max_depth=5, regressor__regressor__n_estimators=500, regressor__regressor__num_leaves=63, regressor__regressor__subsample=0.8; total time=   4.2s\n",
      "[CV] END regressor__regressor__learning_rate=0.05, regressor__regressor__max_depth=5, regressor__regressor__n_estimators=500, regressor__regressor__num_leaves=63, regressor__regressor__subsample=0.8; total time=   4.2s\n",
      "[CV] END regressor__regressor__learning_rate=0.05, regressor__regressor__max_depth=5, regressor__regressor__n_estimators=500, regressor__regressor__num_leaves=63, regressor__regressor__subsample=0.8; total time=   4.2s\n",
      "[CV] END regressor__regressor__learning_rate=0.05, regressor__regressor__max_depth=5, regressor__regressor__n_estimators=500, regressor__regressor__num_leaves=63, regressor__regressor__subsample=0.8; total time=   4.2s\n",
      "[CV] END regressor__regressor__learning_rate=0.05, regressor__regressor__max_depth=7, regressor__regressor__n_estimators=300, regressor__regressor__num_leaves=31, regressor__regressor__subsample=0.8; total time=   2.6s\n",
      "[CV] END regressor__regressor__learning_rate=0.05, regressor__regressor__max_depth=7, regressor__regressor__n_estimators=300, regressor__regressor__num_leaves=31, regressor__regressor__subsample=0.8; total time=   2.7s\n",
      "[CV] END regressor__regressor__learning_rate=0.05, regressor__regressor__max_depth=7, regressor__regressor__n_estimators=300, regressor__regressor__num_leaves=31, regressor__regressor__subsample=0.8; total time=   2.8s\n",
      "[CV] END regressor__regressor__learning_rate=0.05, regressor__regressor__max_depth=7, regressor__regressor__n_estimators=300, regressor__regressor__num_leaves=31, regressor__regressor__subsample=0.8; total time=   2.6s\n",
      "[CV] END regressor__regressor__learning_rate=0.05, regressor__regressor__max_depth=7, regressor__regressor__n_estimators=300, regressor__regressor__num_leaves=31, regressor__regressor__subsample=0.8; total time=   2.6s\n",
      "[CV] END regressor__regressor__learning_rate=0.05, regressor__regressor__max_depth=7, regressor__regressor__n_estimators=300, regressor__regressor__num_leaves=63, regressor__regressor__subsample=0.8; total time=   3.1s\n",
      "[CV] END regressor__regressor__learning_rate=0.05, regressor__regressor__max_depth=7, regressor__regressor__n_estimators=300, regressor__regressor__num_leaves=63, regressor__regressor__subsample=0.8; total time=   3.1s\n",
      "[CV] END regressor__regressor__learning_rate=0.05, regressor__regressor__max_depth=7, regressor__regressor__n_estimators=300, regressor__regressor__num_leaves=63, regressor__regressor__subsample=0.8; total time=   3.0s\n",
      "[CV] END regressor__regressor__learning_rate=0.05, regressor__regressor__max_depth=7, regressor__regressor__n_estimators=300, regressor__regressor__num_leaves=63, regressor__regressor__subsample=0.8; total time=   2.9s\n",
      "[CV] END regressor__regressor__learning_rate=0.05, regressor__regressor__max_depth=7, regressor__regressor__n_estimators=300, regressor__regressor__num_leaves=63, regressor__regressor__subsample=0.8; total time=   3.0s\n",
      "[CV] END regressor__regressor__learning_rate=0.05, regressor__regressor__max_depth=7, regressor__regressor__n_estimators=500, regressor__regressor__num_leaves=31, regressor__regressor__subsample=0.8; total time=   3.8s\n",
      "[CV] END regressor__regressor__learning_rate=0.05, regressor__regressor__max_depth=7, regressor__regressor__n_estimators=500, regressor__regressor__num_leaves=31, regressor__regressor__subsample=0.8; total time=   4.2s\n",
      "[CV] END regressor__regressor__learning_rate=0.05, regressor__regressor__max_depth=7, regressor__regressor__n_estimators=500, regressor__regressor__num_leaves=31, regressor__regressor__subsample=0.8; total time=   4.4s\n",
      "[CV] END regressor__regressor__learning_rate=0.05, regressor__regressor__max_depth=7, regressor__regressor__n_estimators=500, regressor__regressor__num_leaves=31, regressor__regressor__subsample=0.8; total time=   4.2s\n",
      "[CV] END regressor__regressor__learning_rate=0.05, regressor__regressor__max_depth=7, regressor__regressor__n_estimators=500, regressor__regressor__num_leaves=31, regressor__regressor__subsample=0.8; total time=   4.5s\n",
      "[CV] END regressor__regressor__learning_rate=0.05, regressor__regressor__max_depth=7, regressor__regressor__n_estimators=500, regressor__regressor__num_leaves=63, regressor__regressor__subsample=0.8; total time=   4.3s\n",
      "[CV] END regressor__regressor__learning_rate=0.05, regressor__regressor__max_depth=7, regressor__regressor__n_estimators=500, regressor__regressor__num_leaves=63, regressor__regressor__subsample=0.8; total time=   4.2s\n",
      "[CV] END regressor__regressor__learning_rate=0.05, regressor__regressor__max_depth=7, regressor__regressor__n_estimators=500, regressor__regressor__num_leaves=63, regressor__regressor__subsample=0.8; total time=   4.7s\n",
      "[CV] END regressor__regressor__learning_rate=0.05, regressor__regressor__max_depth=7, regressor__regressor__n_estimators=500, regressor__regressor__num_leaves=63, regressor__regressor__subsample=0.8; total time=   5.0s\n",
      "[CV] END regressor__regressor__learning_rate=0.05, regressor__regressor__max_depth=7, regressor__regressor__n_estimators=500, regressor__regressor__num_leaves=63, regressor__regressor__subsample=0.8; total time=   4.3s\n",
      "[CV] END regressor__regressor__learning_rate=0.1, regressor__regressor__max_depth=5, regressor__regressor__n_estimators=300, regressor__regressor__num_leaves=31, regressor__regressor__subsample=0.8; total time=   2.9s\n",
      "[CV] END regressor__regressor__learning_rate=0.1, regressor__regressor__max_depth=5, regressor__regressor__n_estimators=300, regressor__regressor__num_leaves=31, regressor__regressor__subsample=0.8; total time=   2.8s\n",
      "[CV] END regressor__regressor__learning_rate=0.1, regressor__regressor__max_depth=5, regressor__regressor__n_estimators=300, regressor__regressor__num_leaves=31, regressor__regressor__subsample=0.8; total time=   2.7s\n",
      "[CV] END regressor__regressor__learning_rate=0.1, regressor__regressor__max_depth=5, regressor__regressor__n_estimators=300, regressor__regressor__num_leaves=31, regressor__regressor__subsample=0.8; total time=   2.8s\n",
      "[CV] END regressor__regressor__learning_rate=0.1, regressor__regressor__max_depth=5, regressor__regressor__n_estimators=300, regressor__regressor__num_leaves=31, regressor__regressor__subsample=0.8; total time=   2.7s\n",
      "[CV] END regressor__regressor__learning_rate=0.1, regressor__regressor__max_depth=5, regressor__regressor__n_estimators=300, regressor__regressor__num_leaves=63, regressor__regressor__subsample=0.8; total time=   4.3s\n",
      "[CV] END regressor__regressor__learning_rate=0.1, regressor__regressor__max_depth=5, regressor__regressor__n_estimators=300, regressor__regressor__num_leaves=63, regressor__regressor__subsample=0.8; total time=   2.9s\n",
      "[CV] END regressor__regressor__learning_rate=0.1, regressor__regressor__max_depth=5, regressor__regressor__n_estimators=300, regressor__regressor__num_leaves=63, regressor__regressor__subsample=0.8; total time=   2.9s\n",
      "[CV] END regressor__regressor__learning_rate=0.1, regressor__regressor__max_depth=5, regressor__regressor__n_estimators=300, regressor__regressor__num_leaves=63, regressor__regressor__subsample=0.8; total time=   2.7s\n",
      "[CV] END regressor__regressor__learning_rate=0.1, regressor__regressor__max_depth=5, regressor__regressor__n_estimators=300, regressor__regressor__num_leaves=63, regressor__regressor__subsample=0.8; total time=   2.9s\n",
      "[CV] END regressor__regressor__learning_rate=0.1, regressor__regressor__max_depth=5, regressor__regressor__n_estimators=500, regressor__regressor__num_leaves=31, regressor__regressor__subsample=0.8; total time=   4.0s\n",
      "[CV] END regressor__regressor__learning_rate=0.1, regressor__regressor__max_depth=5, regressor__regressor__n_estimators=500, regressor__regressor__num_leaves=31, regressor__regressor__subsample=0.8; total time=   5.0s\n",
      "[CV] END regressor__regressor__learning_rate=0.1, regressor__regressor__max_depth=5, regressor__regressor__n_estimators=500, regressor__regressor__num_leaves=31, regressor__regressor__subsample=0.8; total time=   4.2s\n",
      "[CV] END regressor__regressor__learning_rate=0.1, regressor__regressor__max_depth=5, regressor__regressor__n_estimators=500, regressor__regressor__num_leaves=31, regressor__regressor__subsample=0.8; total time=   4.9s\n",
      "[CV] END regressor__regressor__learning_rate=0.1, regressor__regressor__max_depth=5, regressor__regressor__n_estimators=500, regressor__regressor__num_leaves=31, regressor__regressor__subsample=0.8; total time=   4.5s\n",
      "[CV] END regressor__regressor__learning_rate=0.1, regressor__regressor__max_depth=5, regressor__regressor__n_estimators=500, regressor__regressor__num_leaves=63, regressor__regressor__subsample=0.8; total time=   4.9s\n",
      "[CV] END regressor__regressor__learning_rate=0.1, regressor__regressor__max_depth=5, regressor__regressor__n_estimators=500, regressor__regressor__num_leaves=63, regressor__regressor__subsample=0.8; total time=   4.5s\n",
      "[CV] END regressor__regressor__learning_rate=0.1, regressor__regressor__max_depth=5, regressor__regressor__n_estimators=500, regressor__regressor__num_leaves=63, regressor__regressor__subsample=0.8; total time=   4.5s\n",
      "[CV] END regressor__regressor__learning_rate=0.1, regressor__regressor__max_depth=5, regressor__regressor__n_estimators=500, regressor__regressor__num_leaves=63, regressor__regressor__subsample=0.8; total time=   4.4s\n",
      "[CV] END regressor__regressor__learning_rate=0.1, regressor__regressor__max_depth=5, regressor__regressor__n_estimators=500, regressor__regressor__num_leaves=63, regressor__regressor__subsample=0.8; total time=   4.9s\n",
      "[CV] END regressor__regressor__learning_rate=0.1, regressor__regressor__max_depth=7, regressor__regressor__n_estimators=300, regressor__regressor__num_leaves=31, regressor__regressor__subsample=0.8; total time=   3.9s\n",
      "[CV] END regressor__regressor__learning_rate=0.1, regressor__regressor__max_depth=7, regressor__regressor__n_estimators=300, regressor__regressor__num_leaves=31, regressor__regressor__subsample=0.8; total time=   2.9s\n",
      "[CV] END regressor__regressor__learning_rate=0.1, regressor__regressor__max_depth=7, regressor__regressor__n_estimators=300, regressor__regressor__num_leaves=31, regressor__regressor__subsample=0.8; total time=   2.4s\n",
      "[CV] END regressor__regressor__learning_rate=0.1, regressor__regressor__max_depth=7, regressor__regressor__n_estimators=300, regressor__regressor__num_leaves=31, regressor__regressor__subsample=0.8; total time=   2.6s\n",
      "[CV] END regressor__regressor__learning_rate=0.1, regressor__regressor__max_depth=7, regressor__regressor__n_estimators=300, regressor__regressor__num_leaves=31, regressor__regressor__subsample=0.8; total time=   2.9s\n",
      "[CV] END regressor__regressor__learning_rate=0.1, regressor__regressor__max_depth=7, regressor__regressor__n_estimators=300, regressor__regressor__num_leaves=63, regressor__regressor__subsample=0.8; total time=   3.3s\n",
      "[CV] END regressor__regressor__learning_rate=0.1, regressor__regressor__max_depth=7, regressor__regressor__n_estimators=300, regressor__regressor__num_leaves=63, regressor__regressor__subsample=0.8; total time=   2.7s\n",
      "[CV] END regressor__regressor__learning_rate=0.1, regressor__regressor__max_depth=7, regressor__regressor__n_estimators=300, regressor__regressor__num_leaves=63, regressor__regressor__subsample=0.8; total time=   2.6s\n",
      "[CV] END regressor__regressor__learning_rate=0.1, regressor__regressor__max_depth=7, regressor__regressor__n_estimators=300, regressor__regressor__num_leaves=63, regressor__regressor__subsample=0.8; total time=   3.3s\n",
      "[CV] END regressor__regressor__learning_rate=0.1, regressor__regressor__max_depth=7, regressor__regressor__n_estimators=300, regressor__regressor__num_leaves=63, regressor__regressor__subsample=0.8; total time=   3.2s\n",
      "[CV] END regressor__regressor__learning_rate=0.1, regressor__regressor__max_depth=7, regressor__regressor__n_estimators=500, regressor__regressor__num_leaves=31, regressor__regressor__subsample=0.8; total time=   3.6s\n",
      "[CV] END regressor__regressor__learning_rate=0.1, regressor__regressor__max_depth=7, regressor__regressor__n_estimators=500, regressor__regressor__num_leaves=31, regressor__regressor__subsample=0.8; total time=   4.2s\n",
      "[CV] END regressor__regressor__learning_rate=0.1, regressor__regressor__max_depth=7, regressor__regressor__n_estimators=500, regressor__regressor__num_leaves=31, regressor__regressor__subsample=0.8; total time=   4.2s\n",
      "[CV] END regressor__regressor__learning_rate=0.1, regressor__regressor__max_depth=7, regressor__regressor__n_estimators=500, regressor__regressor__num_leaves=31, regressor__regressor__subsample=0.8; total time=   4.4s\n",
      "[CV] END regressor__regressor__learning_rate=0.1, regressor__regressor__max_depth=7, regressor__regressor__n_estimators=500, regressor__regressor__num_leaves=31, regressor__regressor__subsample=0.8; total time=   4.5s\n",
      "[CV] END regressor__regressor__learning_rate=0.1, regressor__regressor__max_depth=7, regressor__regressor__n_estimators=500, regressor__regressor__num_leaves=63, regressor__regressor__subsample=0.8; total time=   3.9s\n",
      "[CV] END regressor__regressor__learning_rate=0.1, regressor__regressor__max_depth=7, regressor__regressor__n_estimators=500, regressor__regressor__num_leaves=63, regressor__regressor__subsample=0.8; total time=   4.3s\n",
      "[CV] END regressor__regressor__learning_rate=0.1, regressor__regressor__max_depth=7, regressor__regressor__n_estimators=500, regressor__regressor__num_leaves=63, regressor__regressor__subsample=0.8; total time=   4.1s\n",
      "[CV] END regressor__regressor__learning_rate=0.1, regressor__regressor__max_depth=7, regressor__regressor__n_estimators=500, regressor__regressor__num_leaves=63, regressor__regressor__subsample=0.8; total time=   5.2s\n",
      "[CV] END regressor__regressor__learning_rate=0.1, regressor__regressor__max_depth=7, regressor__regressor__n_estimators=500, regressor__regressor__num_leaves=63, regressor__regressor__subsample=0.8; total time=   3.9s\n"
     ]
    }
   ],
   "source": [
    "best_model = grid_search.fit(X, y)"
   ]
  },
  {
   "cell_type": "code",
   "execution_count": 11,
   "metadata": {},
   "outputs": [
    {
     "name": "stdout",
     "output_type": "stream",
     "text": [
      "Best Model MAPE: 0.0452\n"
     ]
    }
   ],
   "source": [
    "best_model = grid_search.best_estimator_\n",
    "y_pred = best_model.predict(X)\n",
    "mape = mean_absolute_percentage_error(y, y_pred)\n",
    "print(f\"Best Model MAPE: {mape:.4f}\")"
   ]
  },
  {
   "cell_type": "code",
   "execution_count": 17,
   "metadata": {},
   "outputs": [],
   "source": [
    "def process_data(df):\n",
    "    # Date features\n",
    "    df['date'] = pd.to_datetime(df['date'])\n",
    "    df['year'] = df['date'].dt.year\n",
    "    df['month'] = df['date'].dt.month\n",
    "    df['day'] = df['date'].dt.day\n",
    "    df['day_of_week'] = df['date'].dt.dayofweek\n",
    "    df['week_of_year'] = df['date'].dt.isocalendar().week\n",
    "    df['is_weekend'] = df['day_of_week'].isin([5, 6]).astype(int)\n",
    "    df['quarter'] = df['date'].dt.quarter\n",
    "    \n",
    "    # Ensure required columns exist\n",
    "    required_columns = [\n",
    "        'year', 'month', 'day', 'day_of_week',\n",
    "        'week_of_year', 'is_weekend', 'quarter',\n",
    "        'country', 'store', 'product'\n",
    "    ]\n",
    "    \n",
    "    # Add missing columns with NaN\n",
    "    for col in required_columns:\n",
    "        if col not in df.columns:\n",
    "            df[col] = np.nan\n",
    "            \n",
    "    return df.drop(columns=['date'])"
   ]
  },
  {
   "cell_type": "code",
   "execution_count": 18,
   "metadata": {},
   "outputs": [],
   "source": [
    "df = pd.read_csv('test.csv')"
   ]
  },
  {
   "cell_type": "code",
   "execution_count": 19,
   "metadata": {},
   "outputs": [],
   "source": [
    "test_df = process_data(df)"
   ]
  },
  {
   "cell_type": "code",
   "execution_count": 20,
   "metadata": {},
   "outputs": [],
   "source": [
    "test_predictions = best_model.predict(test_df)"
   ]
  },
  {
   "cell_type": "code",
   "execution_count": 21,
   "metadata": {},
   "outputs": [
    {
     "name": "stdout",
     "output_type": "stream",
     "text": [
      "Predictions saved to 'Submission_Apurva.csv'.\n"
     ]
    }
   ],
   "source": [
    "test_df['num_sold'] = test_predictions\n",
    "submission = test_df[['id', 'num_sold']]\n",
    "submission.to_csv(\"Submission_Apurva.csv\", index=False)\n",
    "print(\"Predictions saved to 'Submission_Apurva.csv'.\")"
   ]
  },
  {
   "cell_type": "code",
   "execution_count": null,
   "metadata": {},
   "outputs": [],
   "source": []
  }
 ],
 "metadata": {
  "kernelspec": {
   "display_name": "Python 3",
   "language": "python",
   "name": "python3"
  },
  "language_info": {
   "codemirror_mode": {
    "name": "ipython",
    "version": 3
   },
   "file_extension": ".py",
   "mimetype": "text/x-python",
   "name": "python",
   "nbconvert_exporter": "python",
   "pygments_lexer": "ipython3",
   "version": "3.13.1"
  }
 },
 "nbformat": 4,
 "nbformat_minor": 2
}
