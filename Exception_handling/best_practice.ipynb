{
 "cells": [
  {
   "cell_type": "code",
   "execution_count": 3,
   "metadata": {},
   "outputs": [
    {
     "name": "stdout",
     "output_type": "stream",
     "text": [
      "I am trying to handle zero divison error division by zero\n"
     ]
    }
   ],
   "source": [
    "#use always specific exception\n",
    "try:\n",
    "    10/0\n",
    "#print always a proper message\n",
    "except Exception as e:\n",
    "    print(\"I am trying to handle zero divison error\", e)"
   ]
  },
  {
   "cell_type": "code",
   "execution_count": 7,
   "metadata": {},
   "outputs": [],
   "source": [
    "#always try to log your error\n",
    "import logging\n",
    "logging.basicConfig(filename=\"error.log\", level=logging.INFO, format= '%(asctime)s %(message)s')\n",
    "try:\n",
    "    10/0\n",
    "#print always a proper message\n",
    "except Exception as e:\n",
    "   logging.info(\"I am trying to handle zero divison error {}\".format(e))"
   ]
  },
  {
   "cell_type": "code",
   "execution_count": 11,
   "metadata": {},
   "outputs": [],
   "source": [
    "#always avoid to write a multiple exception handling\n",
    "import logging\n",
    "logging.basicConfig(filename=\"error.log\", level=logging.INFO, format= '%(asctime)s %(message)s')\n",
    "try:\n",
    "    10/0\n",
    "except FileNotFoundError as e:\n",
    "    logging.info(\"I am trying to handle File not found error {}\".format(e))\n",
    "except AttributeError as e:\n",
    "    logging.info(\"I am trying to handle Attribute error {}\".format(e))\n",
    "except Exception as e:\n",
    "   logging.info(\"I am trying to handle zero divison error {}\".format(e))\n",
    "#Document all the error"
   ]
  },
  {
   "cell_type": "code",
   "execution_count": 12,
   "metadata": {},
   "outputs": [],
   "source": [
    "#always cleanup all the resources\n",
    "try:\n",
    "    with open(\"test5.txt\",\"w\") as f:\n",
    "        f.write(\"this is my data to file\")\n",
    "except FileNotFoundError as e:\n",
    "    logging.info(\"i a logging file not found error {}\".format(e))\n",
    "#always close thge open file\n",
    "finally:\n",
    "    f.close()"
   ]
  },
  {
   "cell_type": "code",
   "execution_count": null,
   "metadata": {},
   "outputs": [],
   "source": []
  }
 ],
 "metadata": {
  "kernelspec": {
   "display_name": "Python 3",
   "language": "python",
   "name": "python3"
  },
  "language_info": {
   "codemirror_mode": {
    "name": "ipython",
    "version": 3
   },
   "file_extension": ".py",
   "mimetype": "text/x-python",
   "name": "python",
   "nbconvert_exporter": "python",
   "pygments_lexer": "ipython3",
   "version": "3.11.9"
  }
 },
 "nbformat": 4,
 "nbformat_minor": 2
}
