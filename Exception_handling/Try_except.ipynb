{
 "cells": [
  {
   "cell_type": "code",
   "execution_count": 1,
   "metadata": {},
   "outputs": [
    {
     "name": "stdout",
     "output_type": "stream",
     "text": [
      "this is my except block [Errno 2] No such file or directory: 'test.txt'\n",
      "9\n"
     ]
    }
   ],
   "source": [
    "try:\n",
    "    f= open(\"test.txt\",\"r\")\n",
    "except Exception as e:\n",
    "    print(\"this is my except block\", e)\n",
    "    a= 4+5\n",
    "    print(a)"
   ]
  },
  {
   "cell_type": "code",
   "execution_count": 6,
   "metadata": {},
   "outputs": [],
   "source": [
    "try:\n",
    "    #This Block will execute first if any error in this code only than it will execute the except block.otherwise if try block is successfully executed it will skip except block.\n",
    "    f= open(\"test.txt\",\"w\")\n",
    "    f.write(\"This is my first write.\")\n",
    "    f.close()\n",
    "except Exception as e:\n",
    "    print(\"this is my except block\", e)"
   ]
  },
  {
   "cell_type": "code",
   "execution_count": 8,
   "metadata": {},
   "outputs": [
    {
     "name": "stdout",
     "output_type": "stream",
     "text": [
      "This will be executed only if try block is successfully executed.\n"
     ]
    }
   ],
   "source": [
    "try:\n",
    "    #This Block will execute first if any error in this code only than it will execute the except block.otherwise if try block is successfully executed it will skip except block.\n",
    "    f= open(\"test.txt\",\"w\")\n",
    "    f.write(\"This is my first write.\")\n",
    "except Exception as e:\n",
    "    print(\"this is my except block\", e)\n",
    "else:\n",
    "    f.close()\n",
    "    print(\"This will be executed only if try block is successfully executed.\")"
   ]
  },
  {
   "cell_type": "code",
   "execution_count": 9,
   "metadata": {},
   "outputs": [
    {
     "name": "stdout",
     "output_type": "stream",
     "text": [
      "this is my except block [Errno 2] No such file or directory: 'test1.txt'\n"
     ]
    }
   ],
   "source": [
    "try:\n",
    "    #This Block will execute first if any error in this code only than it will execute the except block.otherwise if try block is successfully executed it will skip except block.\n",
    "    f= open(\"test1.txt\",\"r\")\n",
    "    f.write(\"This is my first write.\")\n",
    "except Exception as e:\n",
    "    print(\"this is my except block\", e)\n",
    "else:\n",
    "    f.close()\n",
    "    print(\"This will be executed only if try block is successfully executed.\")"
   ]
  },
  {
   "cell_type": "code",
   "execution_count": null,
   "metadata": {},
   "outputs": [],
   "source": []
  }
 ],
 "metadata": {
  "kernelspec": {
   "display_name": "Python 3",
   "language": "python",
   "name": "python3"
  },
  "language_info": {
   "codemirror_mode": {
    "name": "ipython",
    "version": 3
   },
   "file_extension": ".py",
   "mimetype": "text/x-python",
   "name": "python",
   "nbconvert_exporter": "python",
   "pygments_lexer": "ipython3",
   "version": "3.11.9"
  }
 },
 "nbformat": 4,
 "nbformat_minor": 2
}
