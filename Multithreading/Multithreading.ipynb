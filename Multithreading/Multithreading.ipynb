{
 "cells": [
  {
   "cell_type": "code",
   "execution_count": 1,
   "metadata": {},
   "outputs": [],
   "source": [
    "import threading"
   ]
  },
  {
   "cell_type": "code",
   "execution_count": 2,
   "metadata": {},
   "outputs": [],
   "source": [
    "def test(id):\n",
    "    print(\"program start %d\"% id)"
   ]
  },
  {
   "cell_type": "code",
   "execution_count": 3,
   "metadata": {},
   "outputs": [
    {
     "name": "stdout",
     "output_type": "stream",
     "text": [
      "program start 99\n"
     ]
    }
   ],
   "source": [
    "test(99)"
   ]
  },
  {
   "cell_type": "code",
   "execution_count": 6,
   "metadata": {},
   "outputs": [],
   "source": [
    "thread = [threading.Thread(target=test,args=(i,)) for i in range(10)]"
   ]
  },
  {
   "cell_type": "code",
   "execution_count": 7,
   "metadata": {},
   "outputs": [
    {
     "name": "stdout",
     "output_type": "stream",
     "text": [
      "program start 0\n",
      "program start 1\n",
      "program start 2\n",
      "program start 3\n",
      "program start 4\n",
      "program start 5\n",
      "program start 6\n",
      "program start 7\n",
      "program start 8\n",
      "program start 9\n"
     ]
    }
   ],
   "source": [
    "for t in thread:\n",
    "    t.start()"
   ]
  },
  {
   "cell_type": "code",
   "execution_count": 8,
   "metadata": {},
   "outputs": [
    {
     "data": {
      "text/plain": [
       "[<Thread(Thread-13 (test), stopped 2804)>,\n",
       " <Thread(Thread-14 (test), stopped 22400)>,\n",
       " <Thread(Thread-15 (test), stopped 18020)>,\n",
       " <Thread(Thread-16 (test), stopped 21552)>,\n",
       " <Thread(Thread-17 (test), stopped 17432)>,\n",
       " <Thread(Thread-18 (test), stopped 27952)>,\n",
       " <Thread(Thread-19 (test), stopped 6852)>,\n",
       " <Thread(Thread-20 (test), stopped 23456)>,\n",
       " <Thread(Thread-21 (test), stopped 23116)>,\n",
       " <Thread(Thread-22 (test), stopped 2128)>]"
      ]
     },
     "execution_count": 8,
     "metadata": {},
     "output_type": "execute_result"
    }
   ],
   "source": [
    "thread"
   ]
  },
  {
   "cell_type": "code",
   "execution_count": 9,
   "metadata": {},
   "outputs": [
    {
     "data": {
      "text/plain": [
       "2043636229312"
      ]
     },
     "execution_count": 9,
     "metadata": {},
     "output_type": "execute_result"
    }
   ],
   "source": [
    "id(thread)"
   ]
  },
  {
   "cell_type": "code",
   "execution_count": 10,
   "metadata": {},
   "outputs": [],
   "source": [
    "import threading\n",
    "import urllib.request"
   ]
  },
  {
   "cell_type": "code",
   "execution_count": 12,
   "metadata": {},
   "outputs": [],
   "source": [
    "def file_download(url,filename):\n",
    "    urllib.request.urlretrieve(url,filename)"
   ]
  },
  {
   "cell_type": "code",
   "execution_count": 16,
   "metadata": {},
   "outputs": [],
   "source": [
    "file_download(\"https://raw.githubusercontent.com/Bo0oM/fuzz.txt/refs/heads/master/LICENSE.txt\",\"download.txt\")"
   ]
  },
  {
   "cell_type": "code",
   "execution_count": 17,
   "metadata": {},
   "outputs": [],
   "source": [
    "url_list = [\"https://raw.githubusercontent.com/zouwen198317/txt_files/refs/heads/master/QQ%E7%89%A9%E8%AF%AD.txt\", \"https://raw.githubusercontent.com/zouwen198317/txt_files/refs/heads/master/OL%E5%A5%B3%E5%8F%8B%E7%9A%84%E9%81%AD%E9%81%87.txt\",\"https://raw.githubusercontent.com/Bo0oM/fuzz.txt/refs/heads/master/fuzz.txt\"]"
   ]
  },
  {
   "cell_type": "code",
   "execution_count": 18,
   "metadata": {},
   "outputs": [],
   "source": [
    "file_name_list = [\"data1.txt\",\"data2.txt\",\"data3.txt\"]"
   ]
  },
  {
   "cell_type": "code",
   "execution_count": 19,
   "metadata": {},
   "outputs": [],
   "source": [
    "ther = [threading.Thread(target=file_download,args=(url_list[i],file_name_list[i])) for i in range(len(url_list))]"
   ]
  },
  {
   "cell_type": "code",
   "execution_count": 20,
   "metadata": {},
   "outputs": [
    {
     "data": {
      "text/plain": [
       "[<Thread(Thread-122 (file_download), initial)>,\n",
       " <Thread(Thread-123 (file_download), initial)>,\n",
       " <Thread(Thread-124 (file_download), initial)>]"
      ]
     },
     "execution_count": 20,
     "metadata": {},
     "output_type": "execute_result"
    }
   ],
   "source": [
    "ther"
   ]
  },
  {
   "cell_type": "code",
   "execution_count": 21,
   "metadata": {},
   "outputs": [],
   "source": [
    "for t in ther:\n",
    "    t.start()"
   ]
  },
  {
   "cell_type": "code",
   "execution_count": 22,
   "metadata": {},
   "outputs": [
    {
     "data": {
      "text/plain": [
       "2043636679936"
      ]
     },
     "execution_count": 22,
     "metadata": {},
     "output_type": "execute_result"
    }
   ],
   "source": [
    "id(ther)"
   ]
  },
  {
   "cell_type": "code",
   "execution_count": 23,
   "metadata": {},
   "outputs": [
    {
     "data": {
      "text/plain": [
       "[<Thread(Thread-122 (file_download), stopped 16044)>,\n",
       " <Thread(Thread-123 (file_download), stopped 4848)>,\n",
       " <Thread(Thread-124 (file_download), stopped 19788)>]"
      ]
     },
     "execution_count": 23,
     "metadata": {},
     "output_type": "execute_result"
    }
   ],
   "source": [
    "ther"
   ]
  },
  {
   "cell_type": "code",
   "execution_count": 24,
   "metadata": {},
   "outputs": [],
   "source": [
    "import time"
   ]
  },
  {
   "cell_type": "code",
   "execution_count": 37,
   "metadata": {},
   "outputs": [],
   "source": [
    "def test1(id):\n",
    "    for i in range(10):\n",
    "        print(\"test1 %d printing %d \"%(id,i))\n",
    "        time.sleep(2)"
   ]
  },
  {
   "cell_type": "code",
   "execution_count": 38,
   "metadata": {},
   "outputs": [
    {
     "name": "stdout",
     "output_type": "stream",
     "text": [
      "test1 1 printing 0 \n",
      "test1 1 printing 1 \n",
      "test1 1 printing 2 \n",
      "test1 1 printing 3 \n",
      "test1 1 printing 4 \n",
      "test1 1 printing 5 \n",
      "test1 1 printing 6 \n",
      "test1 1 printing 7 \n",
      "test1 1 printing 8 \n",
      "test1 1 printing 9 \n"
     ]
    }
   ],
   "source": [
    "test1(1)"
   ]
  },
  {
   "cell_type": "code",
   "execution_count": 39,
   "metadata": {},
   "outputs": [],
   "source": [
    "thred2 = [threading.Thread(target=test1,args=(i,)) for i in range(3)]"
   ]
  },
  {
   "cell_type": "code",
   "execution_count": 40,
   "metadata": {},
   "outputs": [
    {
     "name": "stdout",
     "output_type": "stream",
     "text": [
      "test1 0 printing 0 \n",
      "test1 1 printing 0 \n",
      "test1 2 printing 0 \n"
     ]
    },
    {
     "name": "stdout",
     "output_type": "stream",
     "text": [
      "test1 0 printing 1 \n",
      "test1 1 printing 1 \n",
      "test1 2 printing 1 \n",
      "test1 1 printing 2 test1 2 printing 2 \n",
      "\n",
      "test1 0 printing 2 \n",
      "test1 2 printing 3 \n",
      "test1 0 printing 3 \n",
      "test1 1 printing 3 \n",
      "test1 0 printing 4 test1 2 printing 4 \n",
      "test1 1 printing 4 \n",
      "\n",
      "test1 1 printing 5 test1 2 printing 5 \n",
      "\n",
      "test1 0 printing 5 \n",
      "test1 2 printing 6 \n",
      "test1 1 printing 6 \n",
      "test1 0 printing 6 \n",
      "test1 2 printing 7 \n",
      "test1 1 printing 7 \n",
      "test1 0 printing 7 \n",
      "test1 2 printing 8 \n",
      "test1 0 printing 8 \n",
      "test1 1 printing 8 \n",
      "test1 0 printing 9 test1 1 printing 9 \n",
      "test1 2 printing 9 \n",
      "\n"
     ]
    }
   ],
   "source": [
    "for t in thred2:\n",
    "    t.start()"
   ]
  },
  {
   "cell_type": "code",
   "execution_count": 41,
   "metadata": {},
   "outputs": [],
   "source": [
    "def test2(id):\n",
    "    for i in range(10):\n",
    "        print(\"test1 %d printing %d %s \"%(id,i,time.ctime()))\n",
    "        time.sleep(2)"
   ]
  },
  {
   "cell_type": "code",
   "execution_count": 42,
   "metadata": {},
   "outputs": [],
   "source": [
    "ther3 = [threading.Thread(target=test2,args=(i,)) for i in range(3)]"
   ]
  },
  {
   "cell_type": "code",
   "execution_count": 43,
   "metadata": {},
   "outputs": [
    {
     "name": "stdout",
     "output_type": "stream",
     "text": [
      "test1 0 printing 0 Mon Dec  2 21:45:31 2024 \n",
      "test1 1 printing 0 Mon Dec  2 21:45:31 2024 \n",
      "test1 2 printing 0 Mon Dec  2 21:45:31 2024 \n"
     ]
    },
    {
     "name": "stdout",
     "output_type": "stream",
     "text": [
      "test1 0 printing 1 Mon Dec  2 21:45:33 2024 \n",
      "test1 1 printing 1 Mon Dec  2 21:45:33 2024 \n",
      "test1 2 printing 1 Mon Dec  2 21:45:33 2024 \n",
      "test1 0 printing 2 Mon Dec  2 21:45:35 2024 test1 1 printing 2 Mon Dec  2 21:45:35 2024 \n",
      "\n",
      "test1 2 printing 2 Mon Dec  2 21:45:35 2024 \n",
      "test1 0 printing 3 Mon Dec  2 21:45:37 2024 test1 1 printing 3 Mon Dec  2 21:45:37 2024 \n",
      "\n",
      "test1 2 printing 3 Mon Dec  2 21:45:37 2024 \n",
      "test1 0 printing 4 Mon Dec  2 21:45:39 2024 test1 1 printing 4 Mon Dec  2 21:45:39 2024 \n",
      "\n",
      "test1 2 printing 4 Mon Dec  2 21:45:39 2024 \n",
      "test1 1 printing 5 Mon Dec  2 21:45:41 2024 test1 0 printing 5 Mon Dec  2 21:45:41 2024 \n",
      "test1 2 printing 5 Mon Dec  2 21:45:41 2024 \n",
      "\n",
      "test1 2 printing 6 Mon Dec  2 21:45:43 2024 \n",
      "test1 1 printing 6 Mon Dec  2 21:45:43 2024 \n",
      "test1 0 printing 6 Mon Dec  2 21:45:43 2024 \n",
      "test1 0 printing 7 Mon Dec  2 21:45:45 2024 test1 1 printing 7 Mon Dec  2 21:45:45 2024 \n",
      "\n",
      "test1 2 printing 7 Mon Dec  2 21:45:45 2024 \n",
      "test1 0 printing 8 Mon Dec  2 21:45:47 2024 test1 2 printing 8 Mon Dec  2 21:45:47 2024 \n",
      "\n",
      "test1 1 printing 8 Mon Dec  2 21:45:47 2024 \n",
      "test1 2 printing 9 Mon Dec  2 21:45:49 2024 \n",
      "test1 1 printing 9 Mon Dec  2 21:45:49 2024 \n",
      "test1 0 printing 9 Mon Dec  2 21:45:49 2024 \n"
     ]
    }
   ],
   "source": [
    "for t in ther3:\n",
    "    t.start()"
   ]
  },
  {
   "cell_type": "code",
   "execution_count": null,
   "metadata": {},
   "outputs": [
    {
     "name": "stdout",
     "output_type": "stream",
     "text": [
      "[test3 is 0] [has increased the shared  variable by 1] [Mon Dec  2 21:58:54 2024]\n"
     ]
    },
    {
     "name": "stdout",
     "output_type": "stream",
     "text": [
      "[test3 is 1] [has increased the shared  variable by 2] [Mon Dec  2 21:58:56 2024]\n",
      "[test3 is 2] [has increased the shared  variable by 3] [Mon Dec  2 21:58:58 2024]\n"
     ]
    }
   ],
   "source": [
    "shared_var = 0\n",
    "lock_var = threading.Lock()\n",
    "def test3(id):\n",
    "    global shared_var\n",
    "    with lock_var:\n",
    "        shared_var = shared_var + 1\n",
    "        print(\"[test3 is %d] [has increased the shared  variable by %d] [%s]\" %(id,shared_var,time.ctime()))\n",
    "        time.sleep(2)\n",
    "ther4 = [threading.Thread(target=test3,args=(i,)) for i in range(3)]\n",
    "for t in ther4:\n",
    "    t.start()"
   ]
  },
  {
   "cell_type": "code",
   "execution_count": 49,
   "metadata": {},
   "outputs": [
    {
     "data": {
      "text/plain": [
       "6"
      ]
     },
     "execution_count": 49,
     "metadata": {},
     "output_type": "execute_result"
    }
   ],
   "source": [
    "threading.active_count()"
   ]
  },
  {
   "cell_type": "code",
   "execution_count": 53,
   "metadata": {},
   "outputs": [
    {
     "data": {
      "text/plain": [
       "<_MainThread(MainThread, started 12976)>"
      ]
     },
     "execution_count": 53,
     "metadata": {},
     "output_type": "execute_result"
    }
   ],
   "source": [
    "threading.current_thread()"
   ]
  },
  {
   "cell_type": "code",
   "execution_count": 54,
   "metadata": {},
   "outputs": [
    {
     "data": {
      "text/plain": [
       "[<_MainThread(MainThread, started 12976)>,\n",
       " <Thread(IOPub, started daemon 5088)>,\n",
       " <Heartbeat(Heartbeat, started daemon 1684)>,\n",
       " <ControlThread(Control, started daemon 3532)>,\n",
       " <HistorySavingThread(IPythonHistorySavingThread, started 11632)>,\n",
       " <ParentPollerWindows(Thread-1, started daemon 14616)>]"
      ]
     },
     "execution_count": 54,
     "metadata": {},
     "output_type": "execute_result"
    }
   ],
   "source": [
    "threading.enumerate()"
   ]
  },
  {
   "cell_type": "code",
   "execution_count": 55,
   "metadata": {},
   "outputs": [
    {
     "data": {
      "text/plain": [
       "12976"
      ]
     },
     "execution_count": 55,
     "metadata": {},
     "output_type": "execute_result"
    }
   ],
   "source": [
    "threading.get_native_id()"
   ]
  },
  {
   "cell_type": "code",
   "execution_count": 58,
   "metadata": {},
   "outputs": [],
   "source": [
    "for i in ther4:\n",
    "    i.join()"
   ]
  },
  {
   "cell_type": "code",
   "execution_count": null,
   "metadata": {},
   "outputs": [],
   "source": []
  }
 ],
 "metadata": {
  "kernelspec": {
   "display_name": "Python 3",
   "language": "python",
   "name": "python3"
  },
  "language_info": {
   "codemirror_mode": {
    "name": "ipython",
    "version": 3
   },
   "file_extension": ".py",
   "mimetype": "text/x-python",
   "name": "python",
   "nbconvert_exporter": "python",
   "pygments_lexer": "ipython3",
   "version": "3.11.9"
  }
 },
 "nbformat": 4,
 "nbformat_minor": 2
}
