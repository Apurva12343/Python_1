{
 "cells": [
  {
   "cell_type": "code",
   "execution_count": 28,
   "metadata": {},
   "outputs": [],
   "source": [
    "#polymorphisom in addition operator"
   ]
  },
  {
   "cell_type": "code",
   "execution_count": 29,
   "metadata": {},
   "outputs": [
    {
     "data": {
      "text/plain": [
       "12"
      ]
     },
     "execution_count": 29,
     "metadata": {},
     "output_type": "execute_result"
    }
   ],
   "source": [
    "num1 = 5\n",
    "num2= 7\n",
    "num1+num2"
   ]
  },
  {
   "cell_type": "code",
   "execution_count": 30,
   "metadata": {},
   "outputs": [
    {
     "data": {
      "text/plain": [
       "'Apurva'"
      ]
     },
     "execution_count": 30,
     "metadata": {},
     "output_type": "execute_result"
    }
   ],
   "source": [
    "str1 = \"Ap\"\n",
    "str2 = \"urva\"\n",
    "str1+str2"
   ]
  },
  {
   "cell_type": "code",
   "execution_count": 31,
   "metadata": {},
   "outputs": [],
   "source": [
    "#polymorphisom in len function"
   ]
  },
  {
   "cell_type": "code",
   "execution_count": 32,
   "metadata": {},
   "outputs": [
    {
     "name": "stdout",
     "output_type": "stream",
     "text": [
      "6\n",
      "3\n",
      "2\n"
     ]
    }
   ],
   "source": [
    "print(len(\"Apurva\"))\n",
    "print(len([\"apurva\",\"aryan\",\"Jaiswal\"]))\n",
    "print(len({\"name\": \"Apurva\", \"city\": \"Purnea\"}))"
   ]
  },
  {
   "cell_type": "code",
   "execution_count": 33,
   "metadata": {},
   "outputs": [],
   "source": [
    "#polymorphisom in Class function"
   ]
  },
  {
   "cell_type": "code",
   "execution_count": 14,
   "metadata": {},
   "outputs": [],
   "source": [
    "class home:\n",
    "    def behaviour(self):\n",
    "        print(\"Shy\")\n",
    "    def person(self):\n",
    "        print(\"Not Important Person\")"
   ]
  },
  {
   "cell_type": "code",
   "execution_count": 15,
   "metadata": {},
   "outputs": [],
   "source": [
    "class office:\n",
    "    def behaviour(self):\n",
    "        print(\"Jolly\")\n",
    "    def person(self):\n",
    "        print(\"Important Person\")"
   ]
  },
  {
   "cell_type": "code",
   "execution_count": 16,
   "metadata": {},
   "outputs": [],
   "source": [
    "apurva_home = home()\n",
    "apurva_office = office()"
   ]
  },
  {
   "cell_type": "code",
   "execution_count": 17,
   "metadata": {},
   "outputs": [
    {
     "name": "stdout",
     "output_type": "stream",
     "text": [
      "Shy\n",
      "Not Important Person\n",
      "Jolly\n",
      "Important Person\n"
     ]
    }
   ],
   "source": [
    "for i in (apurva_home,apurva_office):\n",
    "    i.behaviour()\n",
    "    i.person()"
   ]
  },
  {
   "cell_type": "code",
   "execution_count": 19,
   "metadata": {},
   "outputs": [
    {
     "name": "stdout",
     "output_type": "stream",
     "text": [
      "Not Important Person\n"
     ]
    }
   ],
   "source": [
    "apurva_home.person()"
   ]
  },
  {
   "cell_type": "code",
   "execution_count": 20,
   "metadata": {},
   "outputs": [
    {
     "name": "stdout",
     "output_type": "stream",
     "text": [
      "Important Person\n"
     ]
    }
   ],
   "source": [
    "apurva_office.person()"
   ]
  },
  {
   "cell_type": "code",
   "execution_count": 21,
   "metadata": {},
   "outputs": [],
   "source": [
    "class cat:\n",
    "    def __init__(self,name, age):\n",
    "        self.name = name\n",
    "        self.age = age\n",
    "    def info(self):\n",
    "        print(f\"I am a Cat, My name is {self.name}. I am {self.age} years old.\")\n",
    "    def make_sound(self):\n",
    "        print(\"Meow\")\n",
    "class dog:\n",
    "    def __init__(self,name, age):\n",
    "        self.name = name\n",
    "        self.age = age\n",
    "    def info(self):\n",
    "        print(f\"I am a Dog, My name is {self.name}. I am {self.age} years old.\")\n",
    "    def make_sound(self):\n",
    "        print(\"Bark\")"
   ]
  },
  {
   "cell_type": "code",
   "execution_count": 23,
   "metadata": {},
   "outputs": [],
   "source": [
    "Bagad_billa = cat(\"Bagad Billa\", 3)\n",
    "Dogy = dog(\"Dogy\",5)"
   ]
  },
  {
   "cell_type": "code",
   "execution_count": 24,
   "metadata": {},
   "outputs": [
    {
     "data": {
      "text/plain": [
       "3"
      ]
     },
     "execution_count": 24,
     "metadata": {},
     "output_type": "execute_result"
    }
   ],
   "source": [
    "Bagad_billa.age"
   ]
  },
  {
   "cell_type": "code",
   "execution_count": 26,
   "metadata": {},
   "outputs": [
    {
     "name": "stdout",
     "output_type": "stream",
     "text": [
      "I am a Cat, My name is Bagad Billa. I am 3 years old.\n"
     ]
    }
   ],
   "source": [
    "Bagad_billa.info()"
   ]
  },
  {
   "cell_type": "code",
   "execution_count": 27,
   "metadata": {},
   "outputs": [
    {
     "name": "stdout",
     "output_type": "stream",
     "text": [
      "Meow\n"
     ]
    }
   ],
   "source": [
    "Bagad_billa.make_sound()"
   ]
  },
  {
   "cell_type": "code",
   "execution_count": 34,
   "metadata": {},
   "outputs": [],
   "source": [
    "#Polymorphism and Inheritance\n"
   ]
  },
  {
   "cell_type": "code",
   "execution_count": 35,
   "metadata": {},
   "outputs": [],
   "source": [
    "from math import pi "
   ]
  },
  {
   "cell_type": "code",
   "execution_count": 36,
   "metadata": {},
   "outputs": [],
   "source": [
    "class shape:\n",
    "    def __init__(self,name):\n",
    "        self.name = name\n",
    "    def area(self):\n",
    "        pass\n",
    "    def fact(self):\n",
    "        return \"I am a two Dimensional Shape\"\n",
    "    def __str__(self):\n",
    "        return self.name\n",
    "class square(shape):\n",
    "    def __init__(self, length):\n",
    "        super().__init__(\"square\")\n",
    "        self.length = length\n",
    "    def area(self):\n",
    "        return self.length ** 2\n",
    "    def fact(self):\n",
    "        return \"Squares have each angle equal to 90 degrees\"\n",
    "class circle(shape):\n",
    "    def __init__(self, radius):\n",
    "        super().__init__(\"Circle\")\n",
    "        self.radius = radius\n",
    "    def area(self):\n",
    "        return pi*self.radius**2"
   ]
  },
  {
   "cell_type": "code",
   "execution_count": 40,
   "metadata": {},
   "outputs": [],
   "source": [
    "circle1 = circle(7)\n",
    "square1 = square(5)"
   ]
  },
  {
   "cell_type": "code",
   "execution_count": 42,
   "metadata": {},
   "outputs": [
    {
     "name": "stdout",
     "output_type": "stream",
     "text": [
      "Circle\n"
     ]
    }
   ],
   "source": [
    "print(circle1)"
   ]
  },
  {
   "cell_type": "code",
   "execution_count": 43,
   "metadata": {},
   "outputs": [
    {
     "name": "stdout",
     "output_type": "stream",
     "text": [
      "153.93804002589985\n"
     ]
    }
   ],
   "source": [
    "print(circle1.area())"
   ]
  },
  {
   "cell_type": "code",
   "execution_count": 44,
   "metadata": {},
   "outputs": [
    {
     "data": {
      "text/plain": [
       "'I am a two Dimensional Shape'"
      ]
     },
     "execution_count": 44,
     "metadata": {},
     "output_type": "execute_result"
    }
   ],
   "source": [
    "circle1.fact()"
   ]
  },
  {
   "cell_type": "code",
   "execution_count": 45,
   "metadata": {},
   "outputs": [
    {
     "data": {
      "text/plain": [
       "25"
      ]
     },
     "execution_count": 45,
     "metadata": {},
     "output_type": "execute_result"
    }
   ],
   "source": [
    "square1.area()"
   ]
  },
  {
   "cell_type": "code",
   "execution_count": null,
   "metadata": {},
   "outputs": [],
   "source": []
  }
 ],
 "metadata": {
  "kernelspec": {
   "display_name": "Python 3",
   "language": "python",
   "name": "python3"
  },
  "language_info": {
   "codemirror_mode": {
    "name": "ipython",
    "version": 3
   },
   "file_extension": ".py",
   "mimetype": "text/x-python",
   "name": "python",
   "nbconvert_exporter": "python",
   "pygments_lexer": "ipython3",
   "version": "3.11.9"
  }
 },
 "nbformat": 4,
 "nbformat_minor": 2
}
