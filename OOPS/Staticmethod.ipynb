{
 "cells": [
  {
   "cell_type": "code",
   "execution_count": 7,
   "metadata": {},
   "outputs": [],
   "source": [
    "class pwskills:\n",
    "    def student_details(self,name,mail_id,number):\n",
    "        print(name,mail_id,number)"
   ]
  },
  {
   "cell_type": "code",
   "execution_count": 8,
   "metadata": {},
   "outputs": [],
   "source": [
    " pw = pwskills()"
   ]
  },
  {
   "cell_type": "code",
   "execution_count": 9,
   "metadata": {},
   "outputs": [
    {
     "name": "stdout",
     "output_type": "stream",
     "text": [
      "Apurva apurva@gmail.com 7366018523\n"
     ]
    }
   ],
   "source": [
    "pw.student_details(\"Apurva\",\"apurva@gmail.com\",7366018523)"
   ]
  },
  {
   "cell_type": "code",
   "execution_count": 10,
   "metadata": {},
   "outputs": [],
   "source": [
    "class pwskills1:\n",
    "    #we have to make a object/variable to use this function\n",
    "    def student_details(self,name,mail_id,number):\n",
    "        print(name,mail_id,number)\n",
    "    #we do not have to make a object/variable to use this function\n",
    "    @staticmethod\n",
    "    def mentor(mentor):\n",
    "        print(mentor)"
   ]
  },
  {
   "cell_type": "markdown",
   "metadata": {},
   "source": [
    "As we can see we have to make a object to use studentdetails function"
   ]
  },
  {
   "cell_type": "code",
   "execution_count": 13,
   "metadata": {},
   "outputs": [],
   "source": [
    "Ap = pwskills()"
   ]
  },
  {
   "cell_type": "code",
   "execution_count": 14,
   "metadata": {},
   "outputs": [
    {
     "name": "stdout",
     "output_type": "stream",
     "text": [
      "Apurva Apurva@gamail.com 7366018523\n"
     ]
    }
   ],
   "source": [
    "Ap.student_details(\"Apurva\",\"Apurva@gamail.com\",7366018523)"
   ]
  },
  {
   "cell_type": "markdown",
   "metadata": {},
   "source": [
    "as we can see we do not have to make any object for using the mentor function using staticmethod"
   ]
  },
  {
   "cell_type": "code",
   "execution_count": 17,
   "metadata": {},
   "outputs": [
    {
     "name": "stdout",
     "output_type": "stream",
     "text": [
      "['Tulika', 'Vishnu']\n"
     ]
    }
   ],
   "source": [
    "pwskills1.mentor([\"Tulika\",\"Vishnu\"])"
   ]
  },
  {
   "cell_type": "code",
   "execution_count": 20,
   "metadata": {},
   "outputs": [],
   "source": [
    "class pwskills2:\n",
    "    def student_details(self,name,mail,number):\n",
    "        print(name,mail,number)\n",
    "    @staticmethod\n",
    "    def mentor_class(mentor):\n",
    "        print(mentor)\n",
    "    @classmethod\n",
    "    def class_name(cls):\n",
    "        cls.mentor_class([\"Tulika\",\"Vishnu\"])\n",
    "        "
   ]
  },
  {
   "cell_type": "code",
   "execution_count": 21,
   "metadata": {},
   "outputs": [
    {
     "name": "stdout",
     "output_type": "stream",
     "text": [
      "['Tulika', 'Vishnu']\n"
     ]
    }
   ],
   "source": [
    "pwskills2.class_name()"
   ]
  },
  {
   "cell_type": "code",
   "execution_count": 22,
   "metadata": {},
   "outputs": [],
   "source": [
    "stu1 = pwskills2()"
   ]
  },
  {
   "cell_type": "code",
   "execution_count": 23,
   "metadata": {},
   "outputs": [
    {
     "name": "stdout",
     "output_type": "stream",
     "text": [
      "Apurva Apurva@gmail.com 7366018523\n"
     ]
    }
   ],
   "source": [
    "stu1.student_details(\"Apurva\",\"Apurva@gmail.com\",7366018523)"
   ]
  },
  {
   "cell_type": "code",
   "execution_count": 25,
   "metadata": {},
   "outputs": [
    {
     "name": "stdout",
     "output_type": "stream",
     "text": [
      "['Tulika', 'Vishnu']\n"
     ]
    }
   ],
   "source": [
    "stu1.class_name()"
   ]
  },
  {
   "cell_type": "code",
   "execution_count": null,
   "metadata": {},
   "outputs": [],
   "source": []
  }
 ],
 "metadata": {
  "kernelspec": {
   "display_name": "Python 3",
   "language": "python",
   "name": "python3"
  },
  "language_info": {
   "codemirror_mode": {
    "name": "ipython",
    "version": 3
   },
   "file_extension": ".py",
   "mimetype": "text/x-python",
   "name": "python",
   "nbconvert_exporter": "python",
   "pygments_lexer": "ipython3",
   "version": "3.11.9"
  }
 },
 "nbformat": 4,
 "nbformat_minor": 2
}
