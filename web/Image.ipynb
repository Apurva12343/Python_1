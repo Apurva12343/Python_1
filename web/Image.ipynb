{
 "cells": [
  {
   "cell_type": "code",
   "execution_count": 1,
   "metadata": {},
   "outputs": [],
   "source": [
    "import requests\n",
    "from bs4 import BeautifulSoup\n",
    "from urllib.request import urlopen\n",
    "import logging\n",
    "import pymongo\n",
    "import os"
   ]
  },
  {
   "cell_type": "code",
   "execution_count": 2,
   "metadata": {},
   "outputs": [],
   "source": [
    "save_dir = ('image/')\n",
    "if not os.path.exists(save_dir):\n",
    "    os.makedirs(save_dir)"
   ]
  },
  {
   "cell_type": "code",
   "execution_count": 3,
   "metadata": {},
   "outputs": [],
   "source": [
    "headers = {\"User-Agent\": \"Mozilla/5.0 (Windows NT 10.0; Win64; x64) AppleWebKit/537.36 (KHTML, like Gecko) Chrome/58.0.3029.110 Safari/537.36\"}"
   ]
  },
  {
   "cell_type": "code",
   "execution_count": 4,
   "metadata": {},
   "outputs": [],
   "source": [
    "query = \"Apurva\"\n",
    "response = requests.get(f\"https://www.google.com/search?q={query}&sxsrf=AJOqlzUuff1RXi2mm8I_OqOwT9VjfIDL7w:1676996143273&source=lnms&tbm=isch&sa=X&ved=2ahUKEwiq-qK7gaf9AhXUgVYBHYReAfYQ_AUoA3oECAEQBQ&biw=1920&bih=937&dpr=1#imgrc=1th7VhSesfMJ4M\")"
   ]
  },
  {
   "cell_type": "code",
   "execution_count": 5,
   "metadata": {},
   "outputs": [
    {
     "data": {
      "text/plain": [
       "<Response [200]>"
      ]
     },
     "execution_count": 5,
     "metadata": {},
     "output_type": "execute_result"
    }
   ],
   "source": [
    "response"
   ]
  },
  {
   "cell_type": "code",
   "execution_count": 6,
   "metadata": {},
   "outputs": [
    {
     "data": {
      "text/plain": [
       "b'<!DOCTYPE html PUBLIC \"-//WAPFORUM//DTD XHTML Mobile 1.0//EN\" \"http://www.wapforum.org/DTD/xhtml-mobile10.dtd\"><html xmlns=\"http://www.w3.org/1999/xhtml\" lang=\"en-IN\"><head><meta content=\"application/xhtml+xml; charset=UTF-8\" http-equiv=\"Content-Type\"/><meta content=\"no-cache\" name=\"Cache-Control\"/><title>Apurva - Google Search</title><style>a{text-decoration:none;color:inherit}a:hover{text-decoration:underline}a img{border:0}body{font-family:arial,sans-serif;padding:8px;margin:0 auto;max-width:700px;min-width:240px;}.FbhRzb{border-left:thin solid #dadce0;border-right:thin solid #dadce0;border-top:thin solid #dadce0;height:40px;overflow:hidden}.n692Zd{margin-bottom:10px}.cvifge{height:40px;border-spacing:0}.QvGUP{height:40px;padding:0 8px 0 8px;vertical-align:top}.O4cRJf{height:40px;width:100%;padding:0;padding-right:14px}.O1ePr{height:40px;padding:0;vertical-align:top}.kgJEQe{height:36px;width:98px;vertical-align:top;margin-top:4px}.lXLRf{vertical-align:top}.MhzMZd{border:0;vertical-align:middle;font-size:14px;height:40px;padding:0;width:100%;padding-left:14px}.xB0fq{height:40px;border:none;font-size:14px;background-color:#1a73e8;color:#fff;padding:0 14px;margin:0;vertical-align:top;cursor:pointer}.xB0fq:focus{border:1px solid #1a73e8}.M7pB2{border:thin solid #dadce0;margin:0 0 3px 0;font-size:13px;font-weight:500;height:40px}.euZec{width:100%;height:40px;text-align:center;border-spacing:0}table.euZec td{padding:0;width:25%}.QIqI7{display:inline-block;padding-top:4px;font-weight:bold;color:#4285f4}.EY24We{border-bottom:2px solid #4285f4}.CsQyDc{display:inline-block;color:#70757a}.TuS8Ad{font-size:14px}.HddGcc{padding:8px;color:#70757a}.dzp8ae{font-weight:bold;color:#3c4043}.rEM8G{color:#70757a}.bookcf{table-layout:fixed;width:100%;border-spacing:0}.InWNIe{text-align:center}.uZgmoc{border:thin solid #dadce0;color:#70757a;font-size:14px;text-align:center;table-layout:fixed;width:100%}.frGj1b{display:block;padding:16px 0 12px 0;width:100%}.BnJWBc{text-align:center;padding:6px 0 13px 0;height:35px}.e3goi{vertical-align:top;padding:0;height:180px}.GpQGbf{margin:auto;border-collapse:collapse;border-spacing:0;width:100%}</style></head><body><style>.X6ZCif{color:#202124;font-size:11px;line-height:16px;display:inline-block;padding-top:2px;overflow:hidden;padding-bottom:4px;width:100%}.TwVfHd{border-radius:16px;border:thin solid #dadce0;display:inline-block;padding:8px 8px;margin-right:8px;margin-bottom:4px}.yekiAe{background-color:#dadce0}.jjVJ4e{width:100%}.ezO2md{border:thin solid #dadce0;padding:16px 14px 12px 14px;margin-bottom:10px;font-family:arial,sans-serif}.lIMUZd{font-family:arial,sans-serif}.RntSmf{border-spacing:0}.lgD2Tc{width:100%}.SpelHe{text-align:center}.SpelHe{position:relative}.kCmkOe{position:relative}.kCmkOe{width:162px;height:140px;line-height:140px;overflow:\\'hidden\\';text-align:center}.DS1iW{text-align:center;margin:auto;vertical-align:middle;max-width:162px;max-height:140px}.AlD19d{padding-top:2px;padding-bottom:8px;}.fYyStc{word-break:break-word}.ynsChf{display:block;white-space:nowrap;overflow:hidden;text-overflow:ellipsis}.Fj3V3b{color:#1967d2;font-size:14px;line-height:20px}.FrIlee{color:#202124;font-size:11px;line-height:16px}.F9iS2e{color:#70757a;font-size:11px;line-height:16px}.WMQ2Le{color:#70757a;font-size:12px;line-height:16px}.x3G5ab{color:#202124;font-size:12px;line-height:16px}.fuLhoc{color:#1967d2;font-size:16px;line-height:20px}.epoveb{font-size:24px;line-height:28px;font-weight:400;color:#202124}.dXDvrc{color:#0d652d;font-size:14px;line-height:20px;word-wrap:break-word}.dloBPe{font-weight:bold}.YVIcad{color:#70757a}.JkVVdd{color:#ea4335}.oXZRFd{color:#ea4335}.MQHtg{color:#fbbc04}.pyMRrb{color:#1e8e3e}.EtTZid{color:#1e8e3e}.M3vVJe{color:#1967d2}.qXLe6d{display:block}.NHQNef{font-style:italic}.Cb8Z7c{white-space:pre}a.ZWRArf{text-decoration:none}a .CVA68e:hover{text-decoration:underline}</style><div class=\"n692Zd\"><div class=\"BnJWBc\"><a class=\"lXLRf\" href=\"/?sa=X&amp;sca_esv=068d2c6be4a01bb2&amp;biw=1920&amp;bih=937&amp;output=images&amp;ie=UTF-8&amp;tbm=isch&amp;ved=0ahUKEwi_6-nCoriKAxWPrlYBHamiLM4QPAgC\"><img class=\"kgJEQe\" src=\"/images/branding/searchlogo/1x/googlelogo_desk_heirloom_color_150x55dp.gif\" alt=\"Google\"/></a></div><div class=\"FbhRzb\"><form action=\"/search\"><input name=\"sca_esv\" value=\"068d2c6be4a01bb2\" type=\"hidden\"/><input name=\"biw\" value=\"1920\" type=\"hidden\"/><input name=\"bih\" value=\"937\" type=\"hidden\"/><input name=\"ie\" value=\"ISO-8859-1\" type=\"hidden\"/><input name=\"tbm\" value=\"isch\" type=\"hidden\"/><input name=\"oq\" type=\"hidden\"/><input name=\"aqs\" type=\"hidden\"/><table class=\"cvifge\"><tr><td class=\"O4cRJf\"><input class=\"MhzMZd\" value=\"Apurva\" name=\"q\" type=\"text\"/></td><td class=\"O1ePr\"><input class=\"xB0fq\" value=\"Search\" type=\"submit\"/></td></tr></table></form></div><div class=\"M7pB2\"><table class=\"euZec\"><tbody><tr><td><a class=\"CsQyDc\" href=\"/search?q=Apurva&amp;sca_esv=068d2c6be4a01bb2&amp;biw=1920&amp;bih=937&amp;ie=UTF-8&amp;source=lnms&amp;sa=X&amp;ved=0ahUKEwi_6-nCoriKAxWPrlYBHamiLM4Q_AUIBCgA\">ALL</a></td><td class=\"EY24We\"><span class=\"QIqI7\">IMAGES</span></td><td><a class=\"CsQyDc\" href=\"/search?q=Apurva&amp;sca_esv=068d2c6be4a01bb2&amp;biw=1920&amp;bih=937&amp;ie=UTF-8&amp;tbm=vid&amp;source=lnms&amp;sa=X&amp;ved=0ahUKEwi_6-nCoriKAxWPrlYBHamiLM4Q_AUIBigC\">VIDEOS</a></td><td><a class=\"CsQyDc\" href=\"/search?q=Apurva&amp;sca_esv=068d2c6be4a01bb2&amp;biw=1920&amp;bih=937&amp;ie=UTF-8&amp;tbm=nws&amp;source=lnms&amp;sa=X&amp;ved=0ahUKEwi_6-nCoriKAxWPrlYBHamiLM4Q_AUIBygD\">NEWS</a></td></tr></tbody></table></div></div><div><table class=\"GpQGbf\"><tr><td class=\"e3goi\" align=\"center\"><div class=\"jjVJ4e\"> <div> <div class=\"lIMUZd\"><div><table class=\"RntSmf\"><tr><td><a href=\"/url?q=https://en.wikipedia.org/wiki/Apurva_(2023_film)&amp;sa=U&amp;ved=2ahUKEwi_6-nCoriKAxWPrlYBHamiLM4QqoUBegQIARAB&amp;usg=AOvVaw3F6fa0oWCw-0O7jU6x6ZyA\"><div class=\"kCmkOe\"><img class=\"DS1iW\" alt=\"\" src=\"https://encrypted-tbn0.gstatic.com/images?q=tbn:ANd9GcSqZA1_GPE6CZ9dDNkjKRpj4K15T3bmUBtwYBZ2V47gmoDeGoUv4l5-CWwmY-4&amp;s\"/></div></a></td></tr><tr><td><a href=\"/url?q=https://en.wikipedia.org/wiki/Apurva_(2023_film)&amp;sa=U&amp;ved=2ahUKEwi_6-nCoriKAxWPrlYBHamiLM4Qr4kDegQIARAC&amp;usg=AOvVaw384fxgOydAZgzOEhiDNy8Y\"><div class=\"AlD19d\">  <span class=\"qXLe6d x3G5ab\">  <span class=\"fYyStc\">Apurva (2023 film) -...</span>  </span>   <span class=\"qXLe6d F9iS2e\">  <span class=\"fYyStc\">en.wikipedia.org</span>  </span> </div></a></td></tr></table></div></div> </div> </div></td><td class=\"e3goi\" align=\"center\"><div class=\"jjVJ4e\"> <div> <div class=\"lIMUZd\"><div><table class=\"RntSmf\"><tr><td><a href=\"/url?q=https://timesofindia.indiatimes.com/entertainment/hindi/movie-reviews/apurva/ottmoviereview/105217685.cms&amp;sa=U&amp;ved=2ahUKEwi_6-nCoriKAxWPrlYBHamiLM4QqoUBegQIExAB&amp;usg=AOvVaw2ZPWW1EfOcfzjIFaK57tg2\"><div class=\"kCmkOe\"><img class=\"DS1iW\" alt=\"\" src=\"https://encrypted-tbn0.gstatic.com/images?q=tbn:ANd9GcQXU5GCCj3kDp4wiwl6y6qGPMKc6-_o97KH1vw5pHOU9ZmKzo4g1ZSkJM5SQkY&amp;s\"/></div></a></td></tr><tr><td><a href=\"/url?q=https://timesofindia.indiatimes.com/entertainment/hindi/movie-reviews/apurva/ottmoviereview/105217685.cms&amp;sa=U&amp;ved=2ahUKEwi_6-nCoriKAxWPrlYBHamiLM4Qr4kDegQIExAC&amp;usg=AOvVaw3BPu5ULwV79uCsjNB2bEJC\"><div class=\"AlD19d\">  <span class=\"qXLe6d x3G5ab\">  <span class=\"fYyStc\">Apurva Review: A hostage...</span>  </span>   <span class=\"qXLe6d F9iS2e\">  <span class=\"fYyStc\">timesofindia.indiatimes.com...</span>  </span> </div></a></td></tr></table></div></div> </div> </div></td><td class=\"e3goi\" align=\"center\"><div class=\"jjVJ4e\"> <div> <div class=\"lIMUZd\"><div><table class=\"RntSmf\"><tr><td><a href=\"/url?q=https://www.instagram.com/apurva_officiall/reel/C9SLAwhv17w/&amp;sa=U&amp;ved=2ahUKEwi_6-nCoriKAxWPrlYBHamiLM4QqoUBegQIEhAB&amp;usg=AOvVaw1rG6bRs2YYb0Q1f4Wjs-5y\"><div class=\"kCmkOe\"><img class=\"DS1iW\" alt=\"\" src=\"https://encrypted-tbn0.gstatic.com/images?q=tbn:ANd9GcQNebItReH52CYsxN6GikXJrX6Py4RCzC5z1pKTNXkQ5PlqJrsL3e3yfoGcYg&amp;s\"/></div></a></td></tr><tr><td><a href=\"/url?q=https://www.instagram.com/apurva_officiall/reel/C9SLAwhv17w/&amp;sa=U&amp;ved=2ahUKEwi_6-nCoriKAxWPrlYBHamiLM4Qr4kDegQIEhAC&amp;usg=AOvVaw0wwtXezj-Z2X8S2igLuAoJ\"><div class=\"AlD19d\">  <span class=\"qXLe6d x3G5ab\">  <span class=\"fYyStc\">Just leaving this here &#8230;&#8230;&#128158;...</span>  </span>   <span class=\"qXLe6d F9iS2e\">  <span class=\"fYyStc\">www.instagram.com</span>  </span> </div></a></td></tr></table></div></div> </div> </div></td><td class=\"e3goi\" align=\"center\"><div class=\"jjVJ4e\"> <div> <div class=\"lIMUZd\"><div><table class=\"RntSmf\"><tr><td><a href=\"/url?q=https://www.filmcompanion.in/trending/tv/reviews/apurva-review-predictable-performative-and-frighteningly-dull-tara-sutaria-disney-hotstar&amp;sa=U&amp;ved=2ahUKEwi_6-nCoriKAxWPrlYBHamiLM4QqoUBegQIERAB&amp;usg=AOvVaw0BuC_KHBX00J2TIgFWmH9j\"><div class=\"kCmkOe\"><img class=\"DS1iW\" alt=\"\" src=\"https://encrypted-tbn0.gstatic.com/images?q=tbn:ANd9GcR13EkC7EwxyKLzhxnzk9PfaNv4LHIzhbEkydoYbRvsANbKsmnBA0OtdNDCZA&amp;s\"/></div></a></td></tr><tr><td><a href=\"/url?q=https://www.filmcompanion.in/trending/tv/reviews/apurva-review-predictable-performative-and-frighteningly-dull-tara-sutaria-disney-hotstar&amp;sa=U&amp;ved=2ahUKEwi_6-nCoriKAxWPrlYBHamiLM4Qr4kDegQIERAC&amp;usg=AOvVaw12dHLLtbdok7lGz38VLVRJ\"><div class=\"AlD19d\">  <span class=\"qXLe6d x3G5ab\">  <span class=\"fYyStc\">Apurva Review: Predictable,...</span>  </span>   <span class=\"qXLe6d F9iS2e\">  <span class=\"fYyStc\">www.filmcompanion.in</span>  </span> </div></a></td></tr></table></div></div> </div> </div></td></tr><tr><td class=\"e3goi\" align=\"center\"><div class=\"jjVJ4e\"> <div> <div class=\"lIMUZd\"><div><table class=\"RntSmf\"><tr><td><a href=\"/url?q=https://www.youtube.com/watch%3Fv%3DYtVH3qz_XUA&amp;sa=U&amp;ved=2ahUKEwi_6-nCoriKAxWPrlYBHamiLM4QqoUBegQIDhAB&amp;usg=AOvVaw2jkhynFzKPSOjKrqR9YyLY\"><div class=\"kCmkOe\"><img class=\"DS1iW\" alt=\"\" src=\"https://encrypted-tbn0.gstatic.com/images?q=tbn:ANd9GcROduHwles6j-7Vth_sVEU4mme3z7C5phwYwyw4HauKNApUCb21YcUufRnuW5g&amp;s\"/></div></a></td></tr><tr><td><a href=\"/url?q=https://www.youtube.com/watch%3Fv%3DYtVH3qz_XUA&amp;sa=U&amp;ved=2ahUKEwi_6-nCoriKAxWPrlYBHamiLM4Qr4kDegQIDhAC&amp;usg=AOvVaw2ZepzQNdzD2MD7kUYTdCOA\"><div class=\"AlD19d\">  <span class=\"qXLe6d x3G5ab\">  <span class=\"fYyStc\">Apurva | Official Trailer |...</span>  </span>   <span class=\"qXLe6d F9iS2e\">  <span class=\"fYyStc\">www.youtube.com</span>  </span> </div></a></td></tr></table></div></div> </div> </div></td><td class=\"e3goi\" align=\"center\"><div class=\"jjVJ4e\"> <div> <div class=\"lIMUZd\"><div><table class=\"RntSmf\"><tr><td><a href=\"/url?q=https://www.filmcompanion.in/trending/tv/reviews/apurva-review-predictable-performative-and-frighteningly-dull-tara-sutaria-disney-hotstar&amp;sa=U&amp;ved=2ahUKEwi_6-nCoriKAxWPrlYBHamiLM4QqoUBegQIDxAB&amp;usg=AOvVaw1t30o7I0o6Mc8BvJoezMNp\"><div class=\"kCmkOe\"><img class=\"DS1iW\" alt=\"\" src=\"https://encrypted-tbn0.gstatic.com/images?q=tbn:ANd9GcRbwARt6VZc_dxfNmXmXFrGFnPDD7rGiSCDObQQMHBDI0Jj63mGNEGdKfj2ZGU&amp;s\"/></div></a></td></tr><tr><td><a href=\"/url?q=https://www.filmcompanion.in/trending/tv/reviews/apurva-review-predictable-performative-and-frighteningly-dull-tara-sutaria-disney-hotstar&amp;sa=U&amp;ved=2ahUKEwi_6-nCoriKAxWPrlYBHamiLM4Qr4kDegQIDxAC&amp;usg=AOvVaw1pcd13NuhjNPLIpTOWl3Hr\"><div class=\"AlD19d\">  <span class=\"qXLe6d x3G5ab\">  <span class=\"fYyStc\">Apurva Review: Predictable,...</span>  </span>   <span class=\"qXLe6d F9iS2e\">  <span class=\"fYyStc\">www.filmcompanion.in</span>  </span> </div></a></td></tr></table></div></div> </div> </div></td><td class=\"e3goi\" align=\"center\"><div class=\"jjVJ4e\"> <div> <div class=\"lIMUZd\"><div><table class=\"RntSmf\"><tr><td><a href=\"/url?q=https://www.instagram.com/apurva_officiall/p/C8vvXArI-SV/&amp;sa=U&amp;ved=2ahUKEwi_6-nCoriKAxWPrlYBHamiLM4QqoUBegQIEBAB&amp;usg=AOvVaw2VHARyriuFSgXuOtPX4hUU\"><div class=\"kCmkOe\"><img class=\"DS1iW\" alt=\"\" src=\"https://encrypted-tbn0.gstatic.com/images?q=tbn:ANd9GcTDITOKJ51_JYmZv3pdEkiACK0JhujZaLUTQZXf9INjMI90KCi1TNaJHqMFbQ&amp;s\"/></div></a></td></tr><tr><td><a href=\"/url?q=https://www.instagram.com/apurva_officiall/p/C8vvXArI-SV/&amp;sa=U&amp;ved=2ahUKEwi_6-nCoriKAxWPrlYBHamiLM4Qr4kDegQIEBAC&amp;usg=AOvVaw3O6oI_FfLLrwgR95rFAy0c\"><div class=\"AlD19d\">  <span class=\"qXLe6d x3G5ab\">  <span class=\"fYyStc\">Apurva | \"In my own lane,...</span>  </span>   <span class=\"qXLe6d F9iS2e\">  <span class=\"fYyStc\">www.instagram.com</span>  </span> </div></a></td></tr></table></div></div> </div> </div></td><td class=\"e3goi\" align=\"center\"><div class=\"jjVJ4e\"> <div> <div class=\"lIMUZd\"><div><table class=\"RntSmf\"><tr><td><a href=\"/url?q=https://www.naidunia.com/web-stories/apurva-on-disney-hotstar-know-film-review-69861&amp;sa=U&amp;ved=2ahUKEwi_6-nCoriKAxWPrlYBHamiLM4QqoUBegQIDBAB&amp;usg=AOvVaw3q-O8aHRVNGzcY3RJ0QZxt\"><div class=\"kCmkOe\"><img class=\"DS1iW\" alt=\"\" src=\"https://encrypted-tbn0.gstatic.com/images?q=tbn:ANd9GcTwtXjjwXnBeCxbS2aVQkEfMDmmtRcRRG5BLLHYGfHvuOTT1BTDLyuoHk_FFrw&amp;s\"/></div></a></td></tr><tr><td><a href=\"/url?q=https://www.naidunia.com/web-stories/apurva-on-disney-hotstar-know-film-review-69861&amp;sa=U&amp;ved=2ahUKEwi_6-nCoriKAxWPrlYBHamiLM4Qr4kDegQIDBAC&amp;usg=AOvVaw1uZLURJxvJVz_bLdaVEEph\"><div class=\"AlD19d\">  <span class=\"qXLe6d x3G5ab\">  <span class=\"fYyStc\">Apurva on Disney+Hotstar:...</span>  </span>   <span class=\"qXLe6d F9iS2e\">  <span class=\"fYyStc\">www.naidunia.com</span>  </span> </div></a></td></tr></table></div></div> </div> </div></td></tr><tr><td class=\"e3goi\" align=\"center\"><div class=\"jjVJ4e\"> <div> <div class=\"lIMUZd\"><div><table class=\"RntSmf\"><tr><td><a href=\"/url?q=https://www.comingsoon.net/indian/news/1402869-is-apurva-movie-based-on-a-real-story&amp;sa=U&amp;ved=2ahUKEwi_6-nCoriKAxWPrlYBHamiLM4QqoUBegQICxAB&amp;usg=AOvVaw3SEjKF4B5iVtDzZlGAtzsf\"><div class=\"kCmkOe\"><img class=\"DS1iW\" alt=\"\" src=\"https://encrypted-tbn0.gstatic.com/images?q=tbn:ANd9GcR6RdoJD08eWB7_P72nENVE18YeA9JB3ndjyQT8lZWRTl_eqidvsliMGwwEB5M&amp;s\"/></div></a></td></tr><tr><td><a href=\"/url?q=https://www.comingsoon.net/indian/news/1402869-is-apurva-movie-based-on-a-real-story&amp;sa=U&amp;ved=2ahUKEwi_6-nCoriKAxWPrlYBHamiLM4Qr4kDegQICxAC&amp;usg=AOvVaw161R7K-mgYnhbVY8cdG2uD\"><div class=\"AlD19d\">  <span class=\"qXLe6d x3G5ab\">  <span class=\"fYyStc\">Is Apurva Movie Based on a...</span>  </span>   <span class=\"qXLe6d F9iS2e\">  <span class=\"fYyStc\">www.comingsoon.net</span>  </span> </div></a></td></tr></table></div></div> </div> </div></td><td class=\"e3goi\" align=\"center\"><div class=\"jjVJ4e\"> <div> <div class=\"lIMUZd\"><div><table class=\"RntSmf\"><tr><td><a href=\"/url?q=https://www.travelweekly.com/Hotels/Nusa-Dua-Indonesia/The-Apurva-Kempinski-Bali-p53145732&amp;sa=U&amp;ved=2ahUKEwi_6-nCoriKAxWPrlYBHamiLM4QqoUBegQIChAB&amp;usg=AOvVaw2NdlPbIM-l7M0-ARgMENpc\"><div class=\"kCmkOe\"><img class=\"DS1iW\" alt=\"\" src=\"https://encrypted-tbn0.gstatic.com/images?q=tbn:ANd9GcSAe1jkf1W88w6akRxHmMcUoik3fUZIgbSB3q4A5Xcno8Q0VVLP62NrD_LQiQ&amp;s\"/></div></a></td></tr><tr><td><a href=\"/url?q=https://www.travelweekly.com/Hotels/Nusa-Dua-Indonesia/The-Apurva-Kempinski-Bali-p53145732&amp;sa=U&amp;ved=2ahUKEwi_6-nCoriKAxWPrlYBHamiLM4Qr4kDegQIChAC&amp;usg=AOvVaw2ppJ9Ju0qE8UML4XhcMZzx\"><div class=\"AlD19d\">  <span class=\"qXLe6d x3G5ab\">  <span class=\"fYyStc\">The Apurva Kempinski Bali-...</span>  </span>   <span class=\"qXLe6d F9iS2e\">  <span class=\"fYyStc\">www.travelweekly.com</span>  </span> </div></a></td></tr></table></div></div> </div> </div></td><td class=\"e3goi\" align=\"center\"><div class=\"jjVJ4e\"> <div> <div class=\"lIMUZd\"><div><table class=\"RntSmf\"><tr><td><a href=\"/url?q=https://indianexpress.com/article/entertainment/bollywood/apurva-trailer-tara-sutaria-fights-for-survival-against-menacing-kidnappers-rajpal-yadav-and-abhishek-banerjee-8999226/&amp;sa=U&amp;ved=2ahUKEwi_6-nCoriKAxWPrlYBHamiLM4QqoUBegQIDRAB&amp;usg=AOvVaw28W4s5Ge6wSyFhjj_K2fFf\"><div class=\"kCmkOe\"><img class=\"DS1iW\" alt=\"\" src=\"https://encrypted-tbn0.gstatic.com/images?q=tbn:ANd9GcRrhZHMNzXpSU7hrHJKXR7glSrbDsSz6TVrazC5wgU_ES4r2RuyABtvFR5IIg&amp;s\"/></div></a></td></tr><tr><td><a href=\"/url?q=https://indianexpress.com/article/entertainment/bollywood/apurva-trailer-tara-sutaria-fights-for-survival-against-menacing-kidnappers-rajpal-yadav-and-abhishek-banerjee-8999226/&amp;sa=U&amp;ved=2ahUKEwi_6-nCoriKAxWPrlYBHamiLM4Qr4kDegQIDRAC&amp;usg=AOvVaw3-az8jghWX4rmWMybun1A2\"><div class=\"AlD19d\">  <span class=\"qXLe6d x3G5ab\">  <span class=\"fYyStc\">Apurva trailer: Tara...</span>  </span>   <span class=\"qXLe6d F9iS2e\">  <span class=\"fYyStc\">indianexpress.com</span>  </span> </div></a></td></tr></table></div></div> </div> </div></td><td class=\"e3goi\" align=\"center\"><div class=\"jjVJ4e\"> <div> <div class=\"lIMUZd\"><div><table class=\"RntSmf\"><tr><td><a href=\"/url?q=https://www.koimoi.com/bollywood-news/apurva-tara-sutaria-on-her-next-thriller-this-is-a-story-of-a-girl-whose-grit-inner-strength-are-remarkable/&amp;sa=U&amp;ved=2ahUKEwi_6-nCoriKAxWPrlYBHamiLM4QqoUBegQICRAB&amp;usg=AOvVaw1nWvNPQQJJmhpZgSyburdg\"><div class=\"kCmkOe\"><img class=\"DS1iW\" alt=\"\" src=\"https://encrypted-tbn0.gstatic.com/images?q=tbn:ANd9GcQHSnnYH9_WC_iQlj65qkgzfcASuiV5whAuvar58atopW9fqMkr9-lhc892okI&amp;s\"/></div></a></td></tr><tr><td><a href=\"/url?q=https://www.koimoi.com/bollywood-news/apurva-tara-sutaria-on-her-next-thriller-this-is-a-story-of-a-girl-whose-grit-inner-strength-are-remarkable/&amp;sa=U&amp;ved=2ahUKEwi_6-nCoriKAxWPrlYBHamiLM4Qr4kDegQICRAC&amp;usg=AOvVaw1L8no0aH0pYKc9Mmp4iKVc\"><div class=\"AlD19d\">  <span class=\"qXLe6d x3G5ab\">  <span class=\"fYyStc\">Apurva: Tara Sutaria On Her...</span>  </span>   <span class=\"qXLe6d F9iS2e\">  <span class=\"fYyStc\">www.koimoi.com</span>  </span> </div></a></td></tr></table></div></div> </div> </div></td></tr><tr><td class=\"e3goi\" align=\"center\"><div class=\"jjVJ4e\"> <div> <div class=\"lIMUZd\"><div><table class=\"RntSmf\"><tr><td><a href=\"/url?q=https://www.agoda.com/en-in/the-apurva-kempinski-bali_2/hotel/bali-id.html&amp;sa=U&amp;ved=2ahUKEwi_6-nCoriKAxWPrlYBHamiLM4QqoUBegQICBAB&amp;usg=AOvVaw3NfPT5HCje7SGva42UoYcS\"><div class=\"kCmkOe\"><img class=\"DS1iW\" alt=\"\" src=\"https://encrypted-tbn0.gstatic.com/images?q=tbn:ANd9GcS8JFOCl04YuEoi_u_HKXygWnMy22D_CXYTtOouEhCZpyTEK0UN6n--OA6rHOw&amp;s\"/></div></a></td></tr><tr><td><a href=\"/url?q=https://www.agoda.com/en-in/the-apurva-kempinski-bali_2/hotel/bali-id.html&amp;sa=U&amp;ved=2ahUKEwi_6-nCoriKAxWPrlYBHamiLM4Qr4kDegQICBAC&amp;usg=AOvVaw2OmC36SmWUn0byz9s3Mzpc\"><div class=\"AlD19d\">  <span class=\"qXLe6d x3G5ab\">  <span class=\"fYyStc\">The Apurva Kempinski Bali |...</span>  </span>   <span class=\"qXLe6d F9iS2e\">  <span class=\"fYyStc\">www.agoda.com</span>  </span> </div></a></td></tr></table></div></div> </div> </div></td><td class=\"e3goi\" align=\"center\"><div class=\"jjVJ4e\"> <div> <div class=\"lIMUZd\"><div><table class=\"RntSmf\"><tr><td><a href=\"/url?q=https://www.kempinski.com/en/the-apurva-kempinski-bali/overview/destination/why-stay-with-us&amp;sa=U&amp;ved=2ahUKEwi_6-nCoriKAxWPrlYBHamiLM4QqoUBegQIAxAB&amp;usg=AOvVaw36VRKw_Y1A8TqTns85X0pP\"><div class=\"kCmkOe\"><img class=\"DS1iW\" alt=\"\" src=\"https://encrypted-tbn0.gstatic.com/images?q=tbn:ANd9GcQamDN933GG88NneaDG2QWE5RPCycRVVkCCYEUMFUlLdPsysjiemZ6Y6oN4zoA&amp;s\"/></div></a></td></tr><tr><td><a href=\"/url?q=https://www.kempinski.com/en/the-apurva-kempinski-bali/overview/destination/why-stay-with-us&amp;sa=U&amp;ved=2ahUKEwi_6-nCoriKAxWPrlYBHamiLM4Qr4kDegQIAxAC&amp;usg=AOvVaw2PNjJ2qU3cDed6drbmYMh8\"><div class=\"AlD19d\">  <span class=\"qXLe6d x3G5ab\">  <span class=\"fYyStc\">Reasons Why Stay With Us |...</span>  </span>   <span class=\"qXLe6d F9iS2e\">  <span class=\"fYyStc\">www.kempinski.com</span>  </span> </div></a></td></tr></table></div></div> </div> </div></td><td class=\"e3goi\" align=\"center\"><div class=\"jjVJ4e\"> <div> <div class=\"lIMUZd\"><div><table class=\"RntSmf\"><tr><td><a href=\"/url?q=https://www.hindustantimes.com/entertainment/bollywood/apurva-movie-review-tara-sutaria-predictable-survival-thriller-101700188784443.html&amp;sa=U&amp;ved=2ahUKEwi_6-nCoriKAxWPrlYBHamiLM4QqoUBegQIBBAB&amp;usg=AOvVaw13fsM3CtMg8T8GEe1K7CQD\"><div class=\"kCmkOe\"><img class=\"DS1iW\" alt=\"\" src=\"https://encrypted-tbn0.gstatic.com/images?q=tbn:ANd9GcQuYiI4zgH7ePUwUsgav-J3j5KOrwnyCa8JIFj3jdzoE2-2J9DoQ_xVRls5J1Q&amp;s\"/></div></a></td></tr><tr><td><a href=\"/url?q=https://www.hindustantimes.com/entertainment/bollywood/apurva-movie-review-tara-sutaria-predictable-survival-thriller-101700188784443.html&amp;sa=U&amp;ved=2ahUKEwi_6-nCoriKAxWPrlYBHamiLM4Qr4kDegQIBBAC&amp;usg=AOvVaw041u1sgOo1eCdf7Nv51akm\"><div class=\"AlD19d\">  <span class=\"qXLe6d x3G5ab\">  <span class=\"fYyStc\">Apurva movie review: Tara...</span>  </span>   <span class=\"qXLe6d F9iS2e\">  <span class=\"fYyStc\">www.hindustantimes.com</span>  </span> </div></a></td></tr></table></div></div> </div> </div></td><td class=\"e3goi\" align=\"center\"><div class=\"jjVJ4e\"> <div> <div class=\"lIMUZd\"><div><table class=\"RntSmf\"><tr><td><a href=\"/url?q=https://www.agoda.com/en-in/the-apurva-kempinski-bali_2/hotel/bali-id.html&amp;sa=U&amp;ved=2ahUKEwi_6-nCoriKAxWPrlYBHamiLM4QqoUBegQIBxAB&amp;usg=AOvVaw06eXdyiBRzdNLq6U5PCyiX\"><div class=\"kCmkOe\"><img class=\"DS1iW\" alt=\"\" src=\"https://encrypted-tbn0.gstatic.com/images?q=tbn:ANd9GcS_70XQuZOUo4UvM_kghUAesAo6C38xp_HM8OjBiMU3Cn9rB_r6uImD0_lKbA&amp;s\"/></div></a></td></tr><tr><td><a href=\"/url?q=https://www.agoda.com/en-in/the-apurva-kempinski-bali_2/hotel/bali-id.html&amp;sa=U&amp;ved=2ahUKEwi_6-nCoriKAxWPrlYBHamiLM4Qr4kDegQIBxAC&amp;usg=AOvVaw3qrBPokWE-w17D-leootL2\"><div class=\"AlD19d\">  <span class=\"qXLe6d x3G5ab\">  <span class=\"fYyStc\">The Apurva Kempinski Bali |...</span>  </span>   <span class=\"qXLe6d F9iS2e\">  <span class=\"fYyStc\">www.agoda.com</span>  </span> </div></a></td></tr></table></div></div> </div> </div></td></tr><tr><td class=\"e3goi\" align=\"center\"><div class=\"jjVJ4e\"> <div> <div class=\"lIMUZd\"><div><table class=\"RntSmf\"><tr><td><a href=\"/url?q=https://www.hotstar.com/sg/movies/apurva/1260155758&amp;sa=U&amp;ved=2ahUKEwi_6-nCoriKAxWPrlYBHamiLM4QqoUBegQIAhAB&amp;usg=AOvVaw3EAaYiZhNavDeWj_Fc6Lwt\"><div class=\"kCmkOe\"><img class=\"DS1iW\" alt=\"\" src=\"https://encrypted-tbn0.gstatic.com/images?q=tbn:ANd9GcS4UFgruo8VCYbX356WXi1A3AB-fqzjyrJhk0_v7hP45xxYfkbGg1giLAH5s6I&amp;s\"/></div></a></td></tr><tr><td><a href=\"/url?q=https://www.hotstar.com/sg/movies/apurva/1260155758&amp;sa=U&amp;ved=2ahUKEwi_6-nCoriKAxWPrlYBHamiLM4Qr4kDegQIAhAC&amp;usg=AOvVaw2G5aMrNDktXv_9AhL2YoDC\"><div class=\"AlD19d\">  <span class=\"qXLe6d x3G5ab\">  <span class=\"fYyStc\">Apurva - Hotstar</span>  </span>   <span class=\"qXLe6d F9iS2e\">  <span class=\"fYyStc\">www.hotstar.com</span>  </span> </div></a></td></tr></table></div></div> </div> </div></td><td class=\"e3goi\" align=\"center\"><div class=\"jjVJ4e\"> <div> <div class=\"lIMUZd\"><div><table class=\"RntSmf\"><tr><td><a href=\"/url?q=https://www.instagram.com/apurvanemlekarofficial/&amp;sa=U&amp;ved=2ahUKEwi_6-nCoriKAxWPrlYBHamiLM4QqoUBegQIABAB&amp;usg=AOvVaw25hBhHILdiwOeqbbTwr9Bp\"><div class=\"kCmkOe\"><img class=\"DS1iW\" alt=\"\" src=\"https://encrypted-tbn0.gstatic.com/images?q=tbn:ANd9GcQtL2BGJu2xT-Zmm4j0rHDdpOiekgW_zet7Kcl3HfjirvJfyte3j306RIljLrw&amp;s\"/></div></a></td></tr><tr><td><a href=\"/url?q=https://www.instagram.com/apurvanemlekarofficial/&amp;sa=U&amp;ved=2ahUKEwi_6-nCoriKAxWPrlYBHamiLM4Qr4kDegQIABAC&amp;usg=AOvVaw16qP61X18tglhbumymjScb\"><div class=\"AlD19d\">  <span class=\"qXLe6d x3G5ab\">  <span class=\"fYyStc\">Apurva Nemlekar...</span>  </span>   <span class=\"qXLe6d F9iS2e\">  <span class=\"fYyStc\">www.instagram.com</span>  </span> </div></a></td></tr></table></div></div> </div> </div></td><td class=\"e3goi\" align=\"center\"><div class=\"jjVJ4e\"> <div> <div class=\"lIMUZd\"><div><table class=\"RntSmf\"><tr><td><a href=\"/url?q=https://www.hotstar.com/in/movies/apurva/1260155758&amp;sa=U&amp;ved=2ahUKEwi_6-nCoriKAxWPrlYBHamiLM4QqoUBegQIBhAB&amp;usg=AOvVaw0wQLzNYZNZqp2P8g4KzhO6\"><div class=\"kCmkOe\"><img class=\"DS1iW\" alt=\"\" src=\"https://encrypted-tbn0.gstatic.com/images?q=tbn:ANd9GcSKDUUy9RX2QUXwI7XegGBDOhjw9lm2JD90Bp6zfQclNvB5Yq9btZ87A7qNPbk&amp;s\"/></div></a></td></tr><tr><td><a href=\"/url?q=https://www.hotstar.com/in/movies/apurva/1260155758&amp;sa=U&amp;ved=2ahUKEwi_6-nCoriKAxWPrlYBHamiLM4Qr4kDegQIBhAC&amp;usg=AOvVaw2Ortpuxaczg77FxhjTvkVu\"><div class=\"AlD19d\">  <span class=\"qXLe6d x3G5ab\">  <span class=\"fYyStc\">Apurva - Disney+ Hotstar</span>  </span>   <span class=\"qXLe6d F9iS2e\">  <span class=\"fYyStc\">www.hotstar.com</span>  </span> </div></a></td></tr></table></div></div> </div> </div></td><td class=\"e3goi\" align=\"center\"><div class=\"jjVJ4e\"> <div> <div class=\"lIMUZd\"><div><table class=\"RntSmf\"><tr><td><a href=\"/url?q=https://m.economictimes.com/magazines/panache/tara-sutaria-admits-that-shouldering-a-film-is-a-huge-responsibility-says-she-is-lucky-for-her-1st-solo-project-apurva/articleshow/104756988.cms&amp;sa=U&amp;ved=2ahUKEwi_6-nCoriKAxWPrlYBHamiLM4QqoUBegQIBRAB&amp;usg=AOvVaw3NyzO8-F__i2HK4_vBEypJ\"><div class=\"kCmkOe\"><img class=\"DS1iW\" alt=\"\" src=\"https://encrypted-tbn0.gstatic.com/images?q=tbn:ANd9GcT2BxSbNtHbjpar0Y8F4ikV59FQXLfXKnOf4HCOQJiHRx1plKKmu9CC1TRn9y8&amp;s\"/></div></a></td></tr><tr><td><a href=\"/url?q=https://m.economictimes.com/magazines/panache/tara-sutaria-admits-that-shouldering-a-film-is-a-huge-responsibility-says-she-is-lucky-for-her-1st-solo-project-apurva/articleshow/104756988.cms&amp;sa=U&amp;ved=2ahUKEwi_6-nCoriKAxWPrlYBHamiLM4Qr4kDegQIBRAC&amp;usg=AOvVaw02KdfbTxUuz0rcMxwVKHEr\"><div class=\"AlD19d\">  <span class=\"qXLe6d x3G5ab\">  <span class=\"fYyStc\">apurva: Tara Sutaria admits...</span>  </span>   <span class=\"qXLe6d F9iS2e\">  <span class=\"fYyStc\">m.economictimes.com</span>  </span> </div></a></td></tr></table></div></div> </div> </div></td></tr></table></div><table class=\"uZgmoc\"><tbody><td><a class=\"frGj1b\" href=\"/search?q=Apurva&amp;sca_esv=068d2c6be4a01bb2&amp;biw=1920&amp;bih=937&amp;ie=UTF-8&amp;tbm=isch&amp;ei=2WRmZ_-aKY_d2roPqcWy8Qw&amp;start=20&amp;sa=N\">Next&nbsp;&gt;</a></td></tbody></table><br/><div class=\"TuS8Ad\" data-ved=\"0ahUKEwi_6-nCoriKAxWPrlYBHamiLM4QpyoIRQ\"><style>.VYM29{font-weight:bold}</style><div class=\"HddGcc\" align=\"center\"><span class=\"VYM29\">803301, Bihar</span><span>&nbsp;-&nbsp;</span><span>From your IP address</span><span>&nbsp;-&nbsp;</span><a href=\"/url?q=https://support.google.com/websearch%3Fp%3Dws_settings_location%26hl%3Den-IN&amp;opi=89978449&amp;sa=U&amp;ved=0ahUKEwi_6-nCoriKAxWPrlYBHamiLM4Qty4IRg&amp;usg=AOvVaw0bJXa6D8-V5kyRWtaPzuTt\">Learn more</a></div><div align=\"center\"><a class=\"rEM8G\" href=\"/url?q=https://accounts.google.com/ServiceLogin%3Fcontinue%3Dhttps://www.google.com/search%253Fq%253DApurva%2526sxsrf%253DAJOqlzUuff1RXi2mm8I_OqOwT9VjfIDL7w:1676996143273%2526source%253Dlnms%2526tbm%253Disch%2526sa%253DX%2526ved%253D2ahUKEwiq-qK7gaf9AhXUgVYBHYReAfYQ_AUoA3oECAEQBQ%2526biw%253D1920%2526bih%253D937%2526dpr%253D1%26hl%3Den&amp;opi=89978449&amp;sa=U&amp;ved=0ahUKEwi_6-nCoriKAxWPrlYBHamiLM4Qxs8CCEc&amp;usg=AOvVaw22b7m6FhRxmy5rC3CcuZof\">Sign in</a></div><div><table class=\"bookcf\"><tbody class=\"InWNIe\"><tr><td><a class=\"rEM8G\" href=\"https://www.google.com/preferences?hl=en&amp;sa=X&amp;ved=0ahUKEwi_6-nCoriKAxWPrlYBHamiLM4Qv5YECEg\">Settings</a></td><td><a class=\"rEM8G\" href=\"https://www.google.com/intl/en_in/policies/privacy/\">Privacy</a></td><td><a class=\"rEM8G\" href=\"https://www.google.com/intl/en_in/policies/terms/\">Terms</a></td></tr></tbody></table></div></div><div>  </div></body></html>'"
      ]
     },
     "execution_count": 6,
     "metadata": {},
     "output_type": "execute_result"
    }
   ],
   "source": [
    "response.content"
   ]
  },
  {
   "cell_type": "code",
   "execution_count": 7,
   "metadata": {},
   "outputs": [],
   "source": [
    "soup = BeautifulSoup(response.content,'html.parser')"
   ]
  },
  {
   "cell_type": "code",
   "execution_count": 8,
   "metadata": {},
   "outputs": [],
   "source": [
    "image_tags = soup.find_all(\"img\")"
   ]
  },
  {
   "cell_type": "code",
   "execution_count": 9,
   "metadata": {},
   "outputs": [
    {
     "data": {
      "text/plain": [
       "21"
      ]
     },
     "execution_count": 9,
     "metadata": {},
     "output_type": "execute_result"
    }
   ],
   "source": [
    "len(image_tags)"
   ]
  },
  {
   "cell_type": "code",
   "execution_count": 10,
   "metadata": {},
   "outputs": [],
   "source": [
    "del image_tags[0]"
   ]
  },
  {
   "cell_type": "code",
   "execution_count": 11,
   "metadata": {},
   "outputs": [
    {
     "data": {
      "text/plain": [
       "20"
      ]
     },
     "execution_count": 11,
     "metadata": {},
     "output_type": "execute_result"
    }
   ],
   "source": [
    "len(image_tags)"
   ]
  },
  {
   "cell_type": "code",
   "execution_count": 12,
   "metadata": {},
   "outputs": [],
   "source": [
    "image_data_monngo = []\n",
    "for i in image_tags:\n",
    "    image_url = i['src']\n",
    "    image_data = requests.get(image_url).content\n",
    "    my_dict = {\"index\": image_url, \"image\":image_data}\n",
    "    image_data_monngo.append(my_dict)\n",
    "    with open(os.path.join(save_dir,f\"{query}_{image_tags.index(i)}.jpg\"),'wb') as f:\n",
    "        f.write(image_data)"
   ]
  },
  {
   "cell_type": "code",
   "execution_count": null,
   "metadata": {},
   "outputs": [],
   "source": []
  }
 ],
 "metadata": {
  "kernelspec": {
   "display_name": "Python 3",
   "language": "python",
   "name": "python3"
  },
  "language_info": {
   "codemirror_mode": {
    "name": "ipython",
    "version": 3
   },
   "file_extension": ".py",
   "mimetype": "text/x-python",
   "name": "python",
   "nbconvert_exporter": "python",
   "pygments_lexer": "ipython3",
   "version": "3.13.1"
  }
 },
 "nbformat": 4,
 "nbformat_minor": 2
}
